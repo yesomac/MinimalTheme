{
  "nbformat": 4,
  "nbformat_minor": 0,
  "metadata": {
    "colab": {
      "provenance": [],
      "authorship_tag": "ABX9TyNtcJOFKUeYBZ8YvFyGFS0O",
      "include_colab_link": true
    },
    "kernelspec": {
      "name": "python3",
      "display_name": "Python 3"
    },
    "language_info": {
      "name": "python"
    }
  },
  "cells": [
    {
      "cell_type": "markdown",
      "metadata": {
        "id": "view-in-github",
        "colab_type": "text"
      },
      "source": [
        "<a href=\"https://colab.research.google.com/github/yesomac/MinimalTheme/blob/main/ArrayNumpay.ipynb\" target=\"_parent\"><img src=\"https://colab.research.google.com/assets/colab-badge.svg\" alt=\"Open In Colab\"/></a>"
      ]
    },
    {
      "cell_type": "markdown",
      "source": [
        "# Manupulandos List -> py como Array -> Pnadas"
      ],
      "metadata": {
        "id": "lwXxb7sbkZU1"
      }
    },
    {
      "cell_type": "code",
      "execution_count": 3,
      "metadata": {
        "id": "WVZ6OxfcUZ4Y"
      },
      "outputs": [],
      "source": [
        "import numpy as np"
      ]
    },
    {
      "cell_type": "markdown",
      "source": [
        "## Definicion list y transformacion a array"
      ],
      "metadata": {
        "id": "OpeEX3dJl5ur"
      }
    },
    {
      "cell_type": "code",
      "source": [
        "lista = [0, 1, 2, 3, 4, 5, 6, 7, 8, 9]\n",
        "print(lista)"
      ],
      "metadata": {
        "colab": {
          "base_uri": "https://localhost:8080/",
          "height": 0
        },
        "id": "HyNXZDjVUuZw",
        "outputId": "335ec47e-77f6-4c1d-e762-f0c25b0f0002"
      },
      "execution_count": 4,
      "outputs": [
        {
          "output_type": "stream",
          "name": "stdout",
          "text": [
            "[0, 1, 2, 3, 4, 5, 6, 7, 8, 9]\n"
          ]
        }
      ]
    },
    {
      "cell_type": "code",
      "source": [
        "#lista a array de numpy\n",
        "arr = np.array(lista)"
      ],
      "metadata": {
        "id": "tQ93ctYuU5hQ"
      },
      "execution_count": 6,
      "outputs": []
    },
    {
      "cell_type": "code",
      "source": [
        "print(type(arr))"
      ],
      "metadata": {
        "colab": {
          "base_uri": "https://localhost:8080/",
          "height": 0
        },
        "id": "BEyAAvAzVIQe",
        "outputId": "7185c5d2-4a01-4876-e24c-977af12caf6e"
      },
      "execution_count": 7,
      "outputs": [
        {
          "output_type": "stream",
          "name": "stdout",
          "text": [
            "<class 'numpy.ndarray'>\n"
          ]
        }
      ]
    },
    {
      "cell_type": "code",
      "source": [
        "#matriz a array\n",
        "matriz = [[1, 2, 3], [4, 5, 6], [7, 8, 9]]\n",
        "matriz = np.array(matriz)\n",
        "print(matriz)"
      ],
      "metadata": {
        "colab": {
          "base_uri": "https://localhost:8080/",
          "height": 0
        },
        "id": "BYnoX7YJVbII",
        "outputId": "e3bfac12-2375-4c55-ac20-6de223e76039"
      },
      "execution_count": 8,
      "outputs": [
        {
          "output_type": "stream",
          "name": "stdout",
          "text": [
            "[[1 2 3]\n",
            " [4 5 6]\n",
            " [7 8 9]]\n"
          ]
        }
      ]
    },
    {
      "cell_type": "code",
      "source": [
        "print(arr)"
      ],
      "metadata": {
        "colab": {
          "base_uri": "https://localhost:8080/",
          "height": 0
        },
        "id": "GrcFDJ0kVsbK",
        "outputId": "0615c522-341b-4d13-d290-ba2e96f252bb"
      },
      "execution_count": 9,
      "outputs": [
        {
          "output_type": "stream",
          "name": "stdout",
          "text": [
            "[0 1 2 3 4 5 6 7 8 9]\n"
          ]
        }
      ]
    },
    {
      "cell_type": "code",
      "source": [
        "print(arr[0] + arr[5])"
      ],
      "metadata": {
        "colab": {
          "base_uri": "https://localhost:8080/",
          "height": 0
        },
        "id": "bySmNOgQWDcC",
        "outputId": "ec7ce60d-856f-4bce-eeaa-e9403b2603c8"
      },
      "execution_count": 10,
      "outputs": [
        {
          "output_type": "stream",
          "name": "stdout",
          "text": [
            "5\n"
          ]
        }
      ]
    },
    {
      "cell_type": "code",
      "source": [
        "print(matriz)"
      ],
      "metadata": {
        "colab": {
          "base_uri": "https://localhost:8080/",
          "height": 0
        },
        "id": "YUVMT2eUWOOp",
        "outputId": "68f3a95c-1fe8-489f-b33f-b1ee48bd3efa"
      },
      "execution_count": 11,
      "outputs": [
        {
          "output_type": "stream",
          "name": "stdout",
          "text": [
            "[[1 2 3]\n",
            " [4 5 6]\n",
            " [7 8 9]]\n"
          ]
        }
      ]
    },
    {
      "cell_type": "code",
      "source": [
        "print(matriz[0])\n",
        "print(matriz[1])\n",
        "print(matriz[0][0])"
      ],
      "metadata": {
        "colab": {
          "base_uri": "https://localhost:8080/",
          "height": 0
        },
        "id": "5CYe0oSLWUVV",
        "outputId": "3b40a53f-e55f-4fb0-d541-6d6ccc4094c0"
      },
      "execution_count": 14,
      "outputs": [
        {
          "output_type": "stream",
          "name": "stdout",
          "text": [
            "[1 2 3]\n",
            "[4 5 6]\n",
            "1\n"
          ]
        }
      ]
    },
    {
      "cell_type": "markdown",
      "source": [
        "## Recorriendo el array con pandas en una matriz"
      ],
      "metadata": {
        "id": "h-hvpcTIkPg3"
      }
    },
    {
      "cell_type": "markdown",
      "source": [
        "Para navegar en una matriz con numpy debemos separar por coma sus filas y columnas, por ejemplo para sumar los elementos de la primer fila\n",
        "\n",
        "Con python normalmente podriamos:\n",
        "```sh\n",
        "print(matriz[0][0] + matriz[0][1] + matriz[0][2]) #6\n",
        "```\n",
        "\n",
        "Ahora numpy facilita esta misma operacion de la siguiente manera\n",
        "```sh\n",
        "print(matriz[0, 0] + matriz[0, 1] + matriz[0, 2]) #6\n",
        "```"
      ],
      "metadata": {
        "id": "GdZ147q3XGO5"
      }
    },
    {
      "cell_type": "code",
      "source": [
        "#Para navegar por coli\n",
        "print(matriz[0][0] + matriz[0][1] + matriz[0][2])\n",
        "print(matriz[0, 0] + matriz[0, 1] + matriz[0, 2])"
      ],
      "metadata": {
        "colab": {
          "base_uri": "https://localhost:8080/",
          "height": 0
        },
        "id": "J-gdpJhgWgaQ",
        "outputId": "afcfdbd8-0445-4fa9-a6e4-0065ce11d96e"
      },
      "execution_count": 22,
      "outputs": [
        {
          "output_type": "stream",
          "name": "stdout",
          "text": [
            "6\n",
            "6\n"
          ]
        }
      ]
    },
    {
      "cell_type": "markdown",
      "source": [
        "## Slicing con arr\n",
        "\n",
        "matriz[inicio : fin : salto , inicio : fin : salto]"
      ],
      "metadata": {
        "id": "WCZdXKJgZ-PE"
      }
    },
    {
      "cell_type": "code",
      "source": [
        "print(arr)\n",
        "\n",
        "#con slicing\n",
        "print(arr[0:3])\n",
        "\n",
        "print(arr[3:10])\n",
        "\n",
        "print(arr[:5])\n",
        "\n",
        "print(arr[5:])\n",
        "\n",
        "print(arr[-1])\n",
        "\n",
        "print(arr[-3:])\n",
        "\n",
        "#recorrido de todo el arreglo por pasos, en este caso por 3\n",
        "print(arr)\n",
        "print(arr[::3])"
      ],
      "metadata": {
        "colab": {
          "base_uri": "https://localhost:8080/",
          "height": 0
        },
        "id": "Xx56znjRYjL3",
        "outputId": "c20f10f3-4ae4-44c9-c662-e3a9492264f6"
      },
      "execution_count": 29,
      "outputs": [
        {
          "output_type": "stream",
          "name": "stdout",
          "text": [
            "[0 1 2 3 4 5 6 7 8 9]\n",
            "[0 1 2]\n",
            "[3 4 5 6 7 8 9]\n",
            "[0 1 2 3 4]\n",
            "[5 6 7 8 9]\n",
            "9\n",
            "[7 8 9]\n",
            "[0 1 2 3 4 5 6 7 8 9]\n",
            "[0 3 6 9]\n"
          ]
        }
      ]
    },
    {
      "cell_type": "markdown",
      "source": [
        "Slicing con matrices"
      ],
      "metadata": {
        "id": "2Mri6AsMZ7Z4"
      }
    },
    {
      "cell_type": "code",
      "source": [
        "print(matriz)"
      ],
      "metadata": {
        "colab": {
          "base_uri": "https://localhost:8080/",
          "height": 0
        },
        "id": "1TfA_DLLZ6SW",
        "outputId": "3396e2ca-ccb3-451f-8ccb-36a76af0de6e"
      },
      "execution_count": 33,
      "outputs": [
        {
          "output_type": "stream",
          "name": "stdout",
          "text": [
            "[[1 2 3]\n",
            " [4 5 6]\n",
            " [7 8 9]]\n"
          ]
        }
      ]
    },
    {
      "cell_type": "code",
      "source": [
        "print(matriz[1:,0:2])"
      ],
      "metadata": {
        "colab": {
          "base_uri": "https://localhost:8080/",
          "height": 0
        },
        "id": "eY6Tg3zaaUhB",
        "outputId": "1239f8e9-d577-4dd7-bb48-2787c51258c8"
      },
      "execution_count": 35,
      "outputs": [
        {
          "output_type": "stream",
          "name": "stdout",
          "text": [
            "[[4 5]\n",
            " [7 8]]\n"
          ]
        }
      ]
    },
    {
      "cell_type": "markdown",
      "source": [
        "## Experimentando con matrices X3"
      ],
      "metadata": {
        "id": "K-xdPXd7ax5B"
      }
    },
    {
      "cell_type": "code",
      "source": [
        "mat = [[[1,2,3], [4,5,6], [7,8,9]],[[2,4,6],[8,10,12],[14,16,18]], [[3,6,9],[12,15,18], [21,23,26]] ]\n",
        "mat = np.array(mat)"
      ],
      "metadata": {
        "id": "CBKJ3NRtaxR8"
      },
      "execution_count": 48,
      "outputs": []
    },
    {
      "cell_type": "code",
      "source": [
        "print(mat)"
      ],
      "metadata": {
        "colab": {
          "base_uri": "https://localhost:8080/",
          "height": 0
        },
        "id": "CeebETsgbUq9",
        "outputId": "dad9f5c1-3d61-4975-b820-b210f498ec64"
      },
      "execution_count": 49,
      "outputs": [
        {
          "output_type": "stream",
          "name": "stdout",
          "text": [
            "[[[ 1  2  3]\n",
            "  [ 4  5  6]\n",
            "  [ 7  8  9]]\n",
            "\n",
            " [[ 2  4  6]\n",
            "  [ 8 10 12]\n",
            "  [14 16 18]]\n",
            "\n",
            " [[ 3  6  9]\n",
            "  [12 15 18]\n",
            "  [21 23 26]]]\n"
          ]
        }
      ]
    },
    {
      "cell_type": "code",
      "source": [
        "print(mat[0])"
      ],
      "metadata": {
        "colab": {
          "base_uri": "https://localhost:8080/",
          "height": 0
        },
        "id": "LcJDw_Shbx19",
        "outputId": "a5f18b12-3c6d-4178-d93a-56d16c97a24b"
      },
      "execution_count": 50,
      "outputs": [
        {
          "output_type": "stream",
          "name": "stdout",
          "text": [
            "[[1 2 3]\n",
            " [4 5 6]\n",
            " [7 8 9]]\n"
          ]
        }
      ]
    },
    {
      "cell_type": "code",
      "source": [
        "print(mat[0,0,0])\n",
        "print(mat[1,0,0])\n",
        "print(mat[2,0,0])"
      ],
      "metadata": {
        "colab": {
          "base_uri": "https://localhost:8080/",
          "height": 0
        },
        "id": "Jef8HE-xeHai",
        "outputId": "58ffb0e2-7ce2-460d-abb0-0e473ea6e573"
      },
      "execution_count": 56,
      "outputs": [
        {
          "output_type": "stream",
          "name": "stdout",
          "text": [
            "1\n",
            "2\n",
            "3\n"
          ]
        }
      ]
    },
    {
      "cell_type": "code",
      "source": [
        "print(mat[0,0,0] + mat[1,0,0] + mat[2,0,0])"
      ],
      "metadata": {
        "colab": {
          "base_uri": "https://localhost:8080/",
          "height": 0
        },
        "id": "_5IyxtnqcDMy",
        "outputId": "b21f088f-2162-42cc-9e44-99ad6796c2af"
      },
      "execution_count": 57,
      "outputs": [
        {
          "output_type": "stream",
          "name": "stdout",
          "text": [
            "6\n"
          ]
        }
      ]
    },
    {
      "cell_type": "code",
      "source": [
        "print(mat)"
      ],
      "metadata": {
        "colab": {
          "base_uri": "https://localhost:8080/",
          "height": 0
        },
        "id": "pixC7m4Ne4on",
        "outputId": "3f9a8b0c-8240-4b31-aa65-d1c0bcacc455"
      },
      "execution_count": 59,
      "outputs": [
        {
          "output_type": "stream",
          "name": "stdout",
          "text": [
            "[[[ 1  2  3]\n",
            "  [ 4  5  6]\n",
            "  [ 7  8  9]]\n",
            "\n",
            " [[ 2  4  6]\n",
            "  [ 8 10 12]\n",
            "  [14 16 18]]\n",
            "\n",
            " [[ 3  6  9]\n",
            "  [12 15 18]\n",
            "  [21 23 26]]]\n"
          ]
        }
      ]
    },
    {
      "cell_type": "code",
      "source": [
        "print(mat[0,0,:3])"
      ],
      "metadata": {
        "colab": {
          "base_uri": "https://localhost:8080/",
          "height": 0
        },
        "id": "Fg5uuKUVeuot",
        "outputId": "4f237a57-cc7e-4c32-9d68-192540e8421a"
      },
      "execution_count": 61,
      "outputs": [
        {
          "output_type": "stream",
          "name": "stdout",
          "text": [
            "[1 2 3]\n"
          ]
        }
      ]
    },
    {
      "cell_type": "code",
      "source": [
        "print(mat[1,2,:3])"
      ],
      "metadata": {
        "colab": {
          "base_uri": "https://localhost:8080/",
          "height": 0
        },
        "id": "TRjgcLNngDWq",
        "outputId": "5593120a-4d37-4108-9afc-2822a74d13d5"
      },
      "execution_count": 63,
      "outputs": [
        {
          "output_type": "stream",
          "name": "stdout",
          "text": [
            "[14 16 18]\n"
          ]
        }
      ]
    },
    {
      "cell_type": "code",
      "source": [
        "print(mat[2,1,2:])"
      ],
      "metadata": {
        "colab": {
          "base_uri": "https://localhost:8080/",
          "height": 0
        },
        "id": "BaIIWHuxgZN4",
        "outputId": "7f932a20-5cc8-4476-868c-e99099a81b24"
      },
      "execution_count": 66,
      "outputs": [
        {
          "output_type": "stream",
          "name": "stdout",
          "text": [
            "[18]\n"
          ]
        }
      ]
    },
    {
      "cell_type": "code",
      "source": [
        "print(mat[0, :, 2])"
      ],
      "metadata": {
        "colab": {
          "base_uri": "https://localhost:8080/",
          "height": 0
        },
        "id": "b1Glzbwfg-lw",
        "outputId": "3c15259b-6b14-4575-f4a1-b6832db2e453"
      },
      "execution_count": 67,
      "outputs": [
        {
          "output_type": "stream",
          "name": "stdout",
          "text": [
            "[3 6 9]\n"
          ]
        }
      ]
    },
    {
      "cell_type": "markdown",
      "source": [
        "# Tipos de datos\n"
      ],
      "metadata": {
        "id": "rpZggemqk8rZ"
      }
    },
    {
      "cell_type": "code",
      "source": [
        "import numpy as np"
      ],
      "metadata": {
        "id": "3y8ZdiXXk_0O"
      },
      "execution_count": 67,
      "outputs": []
    },
    {
      "cell_type": "markdown",
      "source": [
        "Con dtype podemos\n",
        "* Conocer el tipo de dato del contenido de una variables\n",
        "* Cambiar manualmente el tipo de dato de dicha variable"
      ],
      "metadata": {
        "id": "BJjCB-UarkH7"
      }
    },
    {
      "cell_type": "code",
      "source": [
        "#definiendo un array\n",
        "arr = np.array([1, 2, 3, 4])\n",
        "print(arr)\n",
        "print(arr.dtype)"
      ],
      "metadata": {
        "colab": {
          "base_uri": "https://localhost:8080/",
          "height": 0
        },
        "id": "587XQJLYrPjk",
        "outputId": "24be640f-b5be-46e0-9196-2033e5f40021"
      },
      "execution_count": 69,
      "outputs": [
        {
          "output_type": "stream",
          "name": "stdout",
          "text": [
            "[1 2 3 4]\n",
            "int64\n"
          ]
        }
      ]
    },
    {
      "cell_type": "markdown",
      "source": [
        "Para realizar el cambio del tipo de dato en la creacion del mismo despues de una coma especificamos entre comillas el tipo a transformar\n",
        "* dtype='float64'"
      ],
      "metadata": {
        "id": "lIiQiZrisJN1"
      }
    },
    {
      "cell_type": "code",
      "source": [
        "#cambiando el tipo de int64 a float64\n",
        "arr2 = np.array([0, 1, 2, 3, 4], dtype='float64')\n",
        "print(arr2)\n",
        "print(arr2.dtype)"
      ],
      "metadata": {
        "colab": {
          "base_uri": "https://localhost:8080/",
          "height": 0
        },
        "id": "pny3PhRorYcu",
        "outputId": "e2858fe6-32ae-4965-9738-a4ba03ce9c77"
      },
      "execution_count": 80,
      "outputs": [
        {
          "output_type": "stream",
          "name": "stdout",
          "text": [
            "[0. 1. 2. 3. 4.]\n",
            "float64\n"
          ]
        }
      ]
    },
    {
      "cell_type": "markdown",
      "source": [
        "Conversion del tipo de tado directamente desde la libreria"
      ],
      "metadata": {
        "id": "NKoZ3CMRtD7H"
      }
    },
    {
      "cell_type": "code",
      "source": [
        "from numpy.core.memmap import dtype\n",
        "arr3 = arr2.astype(np.float64)\n",
        "print(arr3)\n",
        "print(arr3.dtype)"
      ],
      "metadata": {
        "colab": {
          "base_uri": "https://localhost:8080/",
          "height": 0
        },
        "id": "CxAYo_b7tKjl",
        "outputId": "8c68e9b3-fce9-4ffb-c4bd-b1d44a24325f"
      },
      "execution_count": 81,
      "outputs": [
        {
          "output_type": "stream",
          "name": "stdout",
          "text": [
            "[0. 1. 2. 3. 4.]\n",
            "float64\n"
          ]
        }
      ]
    },
    {
      "cell_type": "markdown",
      "source": [
        "Cambiando el dato de float a bool"
      ],
      "metadata": {
        "id": "hXhY9dcAtebd"
      }
    },
    {
      "cell_type": "code",
      "source": [
        "print(f'Float:{arr3}')\n",
        "print(f'Boll:{arr3.astype(np.bool_)}')"
      ],
      "metadata": {
        "colab": {
          "base_uri": "https://localhost:8080/",
          "height": 0
        },
        "id": "GJtOP2nMtipu",
        "outputId": "92af4610-5d1a-4437-b1e7-c74d8a20eb7c"
      },
      "execution_count": 82,
      "outputs": [
        {
          "output_type": "stream",
          "name": "stdout",
          "text": [
            "Float:[0. 1. 2. 3. 4.]\n",
            "Boll:[False  True  True  True  True]\n"
          ]
        }
      ]
    },
    {
      "cell_type": "markdown",
      "source": [
        "Cnoversion a string"
      ],
      "metadata": {
        "id": "C0Eo1gy6uPJf"
      }
    },
    {
      "cell_type": "code",
      "source": [
        "print(f'Boll:{arr3.astype(np.bool_)}')\n",
        "print(f'String:{arr3.astype(np.string_)}')"
      ],
      "metadata": {
        "colab": {
          "base_uri": "https://localhost:8080/",
          "height": 0
        },
        "id": "vlYfuNPLuRhT",
        "outputId": "a4eb2b4b-1c08-4d06-abc6-e242f8e8dee8"
      },
      "execution_count": 85,
      "outputs": [
        {
          "output_type": "stream",
          "name": "stdout",
          "text": [
            "Boll:[False  True  True  True  True]\n",
            "String:[b'0.0' b'1.0' b'2.0' b'3.0' b'4.0']\n"
          ]
        }
      ]
    },
    {
      "cell_type": "markdown",
      "source": [
        "Conversion string a int8, solo la hara la conversion  de datos numericos validos"
      ],
      "metadata": {
        "id": "Q6zlz2f-uoKE"
      }
    },
    {
      "cell_type": "code",
      "source": [
        "arr_str = np.array(['0', '1', '2', '3', '4'])\n",
        "print(f'String:{arr_str}')\n",
        "arr_str_int = arr_str.astype(np.int8)\n",
        "print(f'Int8:{arr_str_int}')"
      ],
      "metadata": {
        "colab": {
          "base_uri": "https://localhost:8080/",
          "height": 0
        },
        "id": "Az7vTd33urfb",
        "outputId": "6511f030-8a04-4169-8e22-a68107b0fbcd"
      },
      "execution_count": 91,
      "outputs": [
        {
          "output_type": "stream",
          "name": "stdout",
          "text": [
            "String:['0' '1' '2' '3' '4']\n",
            "Int8:[0 1 2 3 4]\n"
          ]
        }
      ]
    },
    {
      "cell_type": "markdown",
      "source": [
        "Creando un array con arange"
      ],
      "metadata": {
        "id": "slcYSGRX3nGa"
      }
    },
    {
      "cell_type": "code",
      "source": [
        "arr_ge = np.arange(0, 10)\n",
        "print(arr_ge)"
      ],
      "metadata": {
        "colab": {
          "base_uri": "https://localhost:8080/",
          "height": 0
        },
        "id": "t8f6m2sS3rbb",
        "outputId": "57abac4b-84a4-491b-a2ef-7e4e97a94623"
      },
      "execution_count": 92,
      "outputs": [
        {
          "output_type": "stream",
          "name": "stdout",
          "text": [
            "[0 1 2 3 4 5 6 7 8 9]\n"
          ]
        }
      ]
    },
    {
      "cell_type": "markdown",
      "source": [
        "# Dimensiones"
      ],
      "metadata": {
        "id": "eNZjFSIG4jl6"
      }
    },
    {
      "cell_type": "markdown",
      "source": [
        "Dimensiones de los datos\n",
        "* Un dato -> Scalar\n",
        "* Una lista -> Vector\n",
        "* Una  Vector de dos dimensiones -> Matrix\n",
        "* Dimensiones cada vez mas grandes -> Tensor\n",
        "\n"
      ],
      "metadata": {
        "id": "-inuoVhk4oCD"
      }
    },
    {
      "cell_type": "code",
      "source": [
        "import numpy as np"
      ],
      "metadata": {
        "id": "gUkth9WI_LWZ"
      },
      "execution_count": 1,
      "outputs": []
    },
    {
      "cell_type": "markdown",
      "source": [
        "Scalar -> 0"
      ],
      "metadata": {
        "id": "yFH431f_nwI_"
      }
    },
    {
      "cell_type": "code",
      "source": [
        "scalar = np.array(42)\n",
        "print(f'Scalar:{scalar}')\n",
        "print(f'Dimensiones:{scalar.ndim}')"
      ],
      "metadata": {
        "colab": {
          "base_uri": "https://localhost:8080/",
          "height": 0
        },
        "id": "cTG-LcZ8nvnu",
        "outputId": "c1638843-0e85-4815-8557-415494ea1126"
      },
      "execution_count": 2,
      "outputs": [
        {
          "output_type": "stream",
          "name": "stdout",
          "text": [
            "Scalar:42\n",
            "Dimensiones:0\n"
          ]
        }
      ]
    },
    {
      "cell_type": "markdown",
      "source": [
        "Vector -> 1"
      ],
      "metadata": {
        "id": "bLbrge_BoEBH"
      }
    },
    {
      "cell_type": "code",
      "source": [
        "vector = np.array([2, 1,4,2])\n",
        "print(f'vector:{vector}')\n",
        "print(f'Dimensiones:{vector.ndim}')"
      ],
      "metadata": {
        "colab": {
          "base_uri": "https://localhost:8080/",
          "height": 0
        },
        "id": "2xoXgXT6oHId",
        "outputId": "6890e4a9-088b-4b5e-b9f4-d5f5407e5118"
      },
      "execution_count": 4,
      "outputs": [
        {
          "output_type": "stream",
          "name": "stdout",
          "text": [
            "vector:[2 1 4 2]\n",
            "Dimensiones:1\n"
          ]
        }
      ]
    },
    {
      "cell_type": "markdown",
      "source": [
        "Matrix"
      ],
      "metadata": {
        "id": "8KlK24NpoQ70"
      }
    },
    {
      "cell_type": "code",
      "source": [
        "matriz = np.array([[1,2,3,4], [5,6,7,8]])\n",
        "print(f'matriz:{matriz}')\n",
        "print(f'Dimensiones:{matriz.ndim}')"
      ],
      "metadata": {
        "colab": {
          "base_uri": "https://localhost:8080/",
          "height": 0
        },
        "id": "8QzKoQtxoVFL",
        "outputId": "d5ef4cce-b68a-42a8-e379-ea48a0564baf"
      },
      "execution_count": 6,
      "outputs": [
        {
          "output_type": "stream",
          "name": "stdout",
          "text": [
            "matriz:[[1 2 3 4]\n",
            " [5 6 7 8]]\n",
            "Dimensiones:2\n"
          ]
        }
      ]
    },
    {
      "cell_type": "code",
      "source": [
        "matriz = np.array([[1,2,3,4], [5,6,7,8],[1,2,3,4], [5,6,7,8]])\n",
        "print(f'matriz:{matriz}')\n",
        "print(f'Dimensiones:{matriz.ndim}')"
      ],
      "metadata": {
        "colab": {
          "base_uri": "https://localhost:8080/",
          "height": 0
        },
        "id": "ltsOrGHmolyH",
        "outputId": "21519ad4-3ce1-46ee-8616-dbf3cf96a3b1"
      },
      "execution_count": 7,
      "outputs": [
        {
          "output_type": "stream",
          "name": "stdout",
          "text": [
            "matriz:[[1 2 3 4]\n",
            " [5 6 7 8]\n",
            " [1 2 3 4]\n",
            " [5 6 7 8]]\n",
            "Dimensiones:2\n"
          ]
        }
      ]
    },
    {
      "cell_type": "markdown",
      "source": [
        "Tensor"
      ],
      "metadata": {
        "id": "KZNt8sOHoxYp"
      }
    },
    {
      "cell_type": "code",
      "source": [
        "tensor = np.array([[[1,2,3,4], [5,6,7,8],[1,2,3,4], [5,6,7,8], [1,2,3,4], [5,6,7,8],[1,2,3,4], [5,6,7,8]]])\n",
        "print(f'tensor:{tensor}')\n",
        "print(f'Dimensiones:{tensor.ndim}')"
      ],
      "metadata": {
        "colab": {
          "base_uri": "https://localhost:8080/",
          "height": 0
        },
        "id": "TWaYyJrZozLM",
        "outputId": "e96b640d-d606-4751-c98a-9c7937afe82a"
      },
      "execution_count": 10,
      "outputs": [
        {
          "output_type": "stream",
          "name": "stdout",
          "text": [
            "tensor:[[[1 2 3 4]\n",
            "  [5 6 7 8]\n",
            "  [1 2 3 4]\n",
            "  [5 6 7 8]\n",
            "  [1 2 3 4]\n",
            "  [5 6 7 8]\n",
            "  [1 2 3 4]\n",
            "  [5 6 7 8]]]\n",
            "Dimensiones:3\n"
          ]
        }
      ]
    },
    {
      "cell_type": "code",
      "source": [
        "tensor = np.array([[[1,2,3,4], [5,6,7,8],[1,2,3,4], [5,6,7,8], [1,2,3,4], [5,6,7,8],[1,2,3,4], [5,6,7,8]], [[1,2,3,4], [5,6,7,8],[1,2,3,4], [5,6,7,8], [1,2,3,4], [5,6,7,8],[1,2,3,4], [5,6,7,8]]])\n",
        "print(f'tensor:{tensor}')\n",
        "print(f'Dimensiones:{tensor.ndim}')"
      ],
      "metadata": {
        "colab": {
          "base_uri": "https://localhost:8080/",
          "height": 0
        },
        "id": "porXw_ctpSOR",
        "outputId": "768687b0-f4fc-4e48-92ab-a63116802e49"
      },
      "execution_count": 12,
      "outputs": [
        {
          "output_type": "stream",
          "name": "stdout",
          "text": [
            "tensor:[[[1 2 3 4]\n",
            "  [5 6 7 8]\n",
            "  [1 2 3 4]\n",
            "  [5 6 7 8]\n",
            "  [1 2 3 4]\n",
            "  [5 6 7 8]\n",
            "  [1 2 3 4]\n",
            "  [5 6 7 8]]\n",
            "\n",
            " [[1 2 3 4]\n",
            "  [5 6 7 8]\n",
            "  [1 2 3 4]\n",
            "  [5 6 7 8]\n",
            "  [1 2 3 4]\n",
            "  [5 6 7 8]\n",
            "  [1 2 3 4]\n",
            "  [5 6 7 8]]]\n",
            "Dimensiones:3\n"
          ]
        }
      ]
    },
    {
      "cell_type": "markdown",
      "source": [
        "## Agregar o eliminar dimensiones"
      ],
      "metadata": {
        "id": "a96WVAoBpnf6"
      }
    },
    {
      "cell_type": "markdown",
      "source": [
        "### Agregar"
      ],
      "metadata": {
        "id": "QsunQJUuri7k"
      }
    },
    {
      "cell_type": "code",
      "source": [
        "vector = np.array([1, 2, 3])\n",
        "print(f'Vector inicial: {vector}')"
      ],
      "metadata": {
        "colab": {
          "base_uri": "https://localhost:8080/",
          "height": 0
        },
        "id": "9Aowqx0Rpv9Y",
        "outputId": "68b62f17-f573-442a-ca81-67e2c7dbdd96"
      },
      "execution_count": 13,
      "outputs": [
        {
          "output_type": "stream",
          "name": "stdout",
          "text": [
            "Vector inicial: [1 2 3]\n"
          ]
        }
      ]
    },
    {
      "cell_type": "code",
      "source": [
        "vector = np.array([1, 2, 3], ndmin=10)\n",
        "print(f'Vector ahora de 10 dimensiones: {vector}')"
      ],
      "metadata": {
        "colab": {
          "base_uri": "https://localhost:8080/",
          "height": 0
        },
        "id": "_WlIbAKVqDMY",
        "outputId": "f6bef5b8-70d8-4ca1-b553-af87733231cb"
      },
      "execution_count": 14,
      "outputs": [
        {
          "output_type": "stream",
          "name": "stdout",
          "text": [
            "Vector ahora de 10 dimensiones: [[[[[[[[[[1 2 3]]]]]]]]]]\n"
          ]
        }
      ]
    },
    {
      "cell_type": "code",
      "source": [
        "vector = np.array([1, 2, 3])\n",
        "print(f'Vector inicial: {vector}')"
      ],
      "metadata": {
        "id": "rkk8dDu4qQTq"
      },
      "execution_count": null,
      "outputs": []
    },
    {
      "cell_type": "markdown",
      "source": [
        "Expandir una unica dimension\n",
        "axis=0 hace referencia a la expansion a nivel de filas, de ser a nivel de columnas axis debe ser igualado a 1 axis=1"
      ],
      "metadata": {
        "id": "-MhW1km2qg4q"
      }
    },
    {
      "cell_type": "code",
      "source": [
        "expand = np.expand_dims(np.array([1, 2, 3]), axis=0)\n",
        "print(f'Expandiendo una unica dimension:{expand}')\n",
        "expand.ndim"
      ],
      "metadata": {
        "colab": {
          "base_uri": "https://localhost:8080/",
          "height": 0
        },
        "id": "C1eM691mqkM7",
        "outputId": "b974515e-500d-4108-cc12-da92c377d816"
      },
      "execution_count": 15,
      "outputs": [
        {
          "output_type": "stream",
          "name": "stdout",
          "text": [
            "Expandiendo una unica dimension:[[1 2 3]]\n"
          ]
        },
        {
          "output_type": "execute_result",
          "data": {
            "text/plain": [
              "2"
            ]
          },
          "metadata": {},
          "execution_count": 15
        }
      ]
    },
    {
      "cell_type": "markdown",
      "source": [
        "### Eliminar"
      ],
      "metadata": {
        "id": "VabqkLUJrmXp"
      }
    },
    {
      "cell_type": "markdown",
      "source": [
        "squeeze lo que hace es compirmir el vector al numero de dimensiones correctas, por ejemplo en este caso pasa de 10 dimensiones a 1 ya que el numero de dimensiones idioneo es 1 por la cantidad de datos"
      ],
      "metadata": {
        "id": "isPX_dMQsCmW"
      }
    },
    {
      "cell_type": "code",
      "source": [
        "print(vector, vector.ndim)\n",
        "vector2 = np.squeeze(vector)\n",
        "print(vector2, vector2.ndim)"
      ],
      "metadata": {
        "colab": {
          "base_uri": "https://localhost:8080/",
          "height": 0
        },
        "id": "U-6sca7Erp5g",
        "outputId": "be61b589-b354-48f7-c470-55e64ae21894"
      },
      "execution_count": 16,
      "outputs": [
        {
          "output_type": "stream",
          "name": "stdout",
          "text": [
            "[[[[[[[[[[1 2 3]]]]]]]]]] 10\n",
            "[1 2 3] 1\n"
          ]
        }
      ]
    },
    {
      "cell_type": "markdown",
      "source": [
        "### 5 dimensiones"
      ],
      "metadata": {
        "id": "_2ZO24Kdsl-N"
      }
    },
    {
      "cell_type": "markdown",
      "source": [
        "Pasando un tensor con dimension 5 a 6 y de 6 al numero de dimensiones ideal de acuerdo a su estructura\n",
        "* Definicion del vector\n",
        "* Axis para ampliar las dimesiones\n",
        "* Squeeze para remover el numero de dimensiones inicesarias"
      ],
      "metadata": {
        "id": "Ipi-5kybthj1"
      }
    },
    {
      "cell_type": "code",
      "source": [
        "tensor2 = np.array([[1, 2, 3], [4, 5, 6], [7, 8, 9]], ndmin=5)\n",
        "print(tensor2)\n",
        "print(tensor2.ndim)"
      ],
      "metadata": {
        "colab": {
          "base_uri": "https://localhost:8080/",
          "height": 0
        },
        "id": "JWSI_47LsprG",
        "outputId": "cc4d78cb-f612-482f-abb8-2556bdb53cbc"
      },
      "execution_count": 17,
      "outputs": [
        {
          "output_type": "stream",
          "name": "stdout",
          "text": [
            "[[[[[1 2 3]\n",
            "    [4 5 6]\n",
            "    [7 8 9]]]]]\n",
            "5\n"
          ]
        }
      ]
    },
    {
      "cell_type": "code",
      "source": [
        "tensor2 = np.expand_dims(tensor2, axis=1)\n",
        "print(tensor2)\n",
        "print(tensor2.ndim)"
      ],
      "metadata": {
        "colab": {
          "base_uri": "https://localhost:8080/",
          "height": 0
        },
        "id": "N2LbTghptBFg",
        "outputId": "4831e128-d1f5-4cd0-e9c1-272ad9f84a63"
      },
      "execution_count": 18,
      "outputs": [
        {
          "output_type": "stream",
          "name": "stdout",
          "text": [
            "[[[[[[1 2 3]\n",
            "     [4 5 6]\n",
            "     [7 8 9]]]]]]\n",
            "6\n"
          ]
        }
      ]
    },
    {
      "cell_type": "code",
      "source": [
        "tensor2 = np.squeeze(tensor2)\n",
        "print(tensor2)\n",
        "print(tensor.ndim)"
      ],
      "metadata": {
        "colab": {
          "base_uri": "https://localhost:8080/",
          "height": 0
        },
        "id": "R9JBZB8-tPk8",
        "outputId": "2d360211-f80f-40fa-f5f7-9d550aaa24f5"
      },
      "execution_count": 20,
      "outputs": [
        {
          "output_type": "stream",
          "name": "stdout",
          "text": [
            "[[1 2 3]\n",
            " [4 5 6]\n",
            " [7 8 9]]\n",
            "3\n"
          ]
        }
      ]
    },
    {
      "cell_type": "markdown",
      "source": [
        "# Creando Arrays con numpy"
      ],
      "metadata": {
        "id": "NWMOC7dHujqI"
      }
    },
    {
      "cell_type": "code",
      "source": [
        "import numpy as np"
      ],
      "metadata": {
        "id": "e3eSjaSluoYO"
      },
      "execution_count": 21,
      "outputs": []
    },
    {
      "cell_type": "markdown",
      "source": [
        "Generacion de una lista con py"
      ],
      "metadata": {
        "id": "_S_qPojkydGH"
      }
    },
    {
      "cell_type": "code",
      "source": [
        "li = list(range(0,10))\n",
        "print(li)"
      ],
      "metadata": {
        "colab": {
          "base_uri": "https://localhost:8080/",
          "height": 0
        },
        "id": "k-77CKzHykCF",
        "outputId": "7a355da2-5d1d-4cfb-d909-5f0fac044ff4"
      },
      "execution_count": 22,
      "outputs": [
        {
          "output_type": "stream",
          "name": "stdout",
          "text": [
            "[0, 1, 2, 3, 4, 5, 6, 7, 8, 9]\n"
          ]
        }
      ]
    },
    {
      "cell_type": "markdown",
      "source": [
        "Generacion de un array con numpy"
      ],
      "metadata": {
        "id": "VpCz6uQzytX-"
      }
    },
    {
      "cell_type": "code",
      "source": [
        "arr = np.arange(0,20)\n",
        "print(arr)"
      ],
      "metadata": {
        "colab": {
          "base_uri": "https://localhost:8080/",
          "height": 0
        },
        "id": "VnU_E2Z3yxRO",
        "outputId": "0b26a1da-1ae6-410e-f32c-c443ba7993ce"
      },
      "execution_count": 23,
      "outputs": [
        {
          "output_type": "stream",
          "name": "stdout",
          "text": [
            "[ 0  1  2  3  4  5  6  7  8  9 10 11 12 13 14 15 16 17 18 19]\n"
          ]
        }
      ]
    },
    {
      "cell_type": "markdown",
      "source": [
        "### arange\n",
        "* Prinera posicion -> valor inicial\n",
        "* Segunda posicion -> valor final\n",
        "* Tercer posicion -> iteracion"
      ],
      "metadata": {
        "id": "Zwp-n3v_zIa1"
      }
    },
    {
      "cell_type": "code",
      "source": [
        "arr = np.arange(0,22,2)\n",
        "print(arr)"
      ],
      "metadata": {
        "colab": {
          "base_uri": "https://localhost:8080/",
          "height": 0
        },
        "id": "uDt6XLRZzACH",
        "outputId": "308527ce-facd-48d0-bf41-a2362dbe84a9"
      },
      "execution_count": 24,
      "outputs": [
        {
          "output_type": "stream",
          "name": "stdout",
          "text": [
            "[ 0  2  4  6  8 10 12 14 16 18 20]\n"
          ]
        }
      ]
    },
    {
      "cell_type": "markdown",
      "source": [
        "### Defincion de un array por ceros"
      ],
      "metadata": {
        "id": "A819c6G_ziAq"
      }
    },
    {
      "cell_type": "code",
      "source": [
        "arr = np.zeros(3)\n",
        "print(arr)"
      ],
      "metadata": {
        "colab": {
          "base_uri": "https://localhost:8080/",
          "height": 0
        },
        "id": "hUyPkJkLzk90",
        "outputId": "7806dda2-f3b3-4ada-942e-ece8e17d3094"
      },
      "execution_count": 45,
      "outputs": [
        {
          "output_type": "stream",
          "name": "stdout",
          "text": [
            "[0. 0. 0.]\n"
          ]
        }
      ]
    },
    {
      "cell_type": "code",
      "source": [
        "arr = np.zeros((10, 10))\n",
        "print(arr)"
      ],
      "metadata": {
        "colab": {
          "base_uri": "https://localhost:8080/",
          "height": 0
        },
        "id": "50i5qL_dzzxF",
        "outputId": "45ae1557-8995-4bd5-fbe6-83d534b9424f"
      },
      "execution_count": 29,
      "outputs": [
        {
          "output_type": "stream",
          "name": "stdout",
          "text": [
            "[[0. 0. 0. 0. 0. 0. 0. 0. 0. 0.]\n",
            " [0. 0. 0. 0. 0. 0. 0. 0. 0. 0.]\n",
            " [0. 0. 0. 0. 0. 0. 0. 0. 0. 0.]\n",
            " [0. 0. 0. 0. 0. 0. 0. 0. 0. 0.]\n",
            " [0. 0. 0. 0. 0. 0. 0. 0. 0. 0.]\n",
            " [0. 0. 0. 0. 0. 0. 0. 0. 0. 0.]\n",
            " [0. 0. 0. 0. 0. 0. 0. 0. 0. 0.]\n",
            " [0. 0. 0. 0. 0. 0. 0. 0. 0. 0.]\n",
            " [0. 0. 0. 0. 0. 0. 0. 0. 0. 0.]\n",
            " [0. 0. 0. 0. 0. 0. 0. 0. 0. 0.]]\n"
          ]
        }
      ]
    },
    {
      "cell_type": "code",
      "source": [
        "arr = np.ones((10, 22))\n",
        "print(arr)"
      ],
      "metadata": {
        "colab": {
          "base_uri": "https://localhost:8080/",
          "height": 0
        },
        "id": "D5AD0C07z8G3",
        "outputId": "5740803a-cd08-4805-b384-2656dab6b9f5"
      },
      "execution_count": 31,
      "outputs": [
        {
          "output_type": "stream",
          "name": "stdout",
          "text": [
            "[[1. 1. 1. 1. 1. 1. 1. 1. 1. 1. 1. 1. 1. 1. 1. 1. 1. 1. 1. 1. 1. 1.]\n",
            " [1. 1. 1. 1. 1. 1. 1. 1. 1. 1. 1. 1. 1. 1. 1. 1. 1. 1. 1. 1. 1. 1.]\n",
            " [1. 1. 1. 1. 1. 1. 1. 1. 1. 1. 1. 1. 1. 1. 1. 1. 1. 1. 1. 1. 1. 1.]\n",
            " [1. 1. 1. 1. 1. 1. 1. 1. 1. 1. 1. 1. 1. 1. 1. 1. 1. 1. 1. 1. 1. 1.]\n",
            " [1. 1. 1. 1. 1. 1. 1. 1. 1. 1. 1. 1. 1. 1. 1. 1. 1. 1. 1. 1. 1. 1.]\n",
            " [1. 1. 1. 1. 1. 1. 1. 1. 1. 1. 1. 1. 1. 1. 1. 1. 1. 1. 1. 1. 1. 1.]\n",
            " [1. 1. 1. 1. 1. 1. 1. 1. 1. 1. 1. 1. 1. 1. 1. 1. 1. 1. 1. 1. 1. 1.]\n",
            " [1. 1. 1. 1. 1. 1. 1. 1. 1. 1. 1. 1. 1. 1. 1. 1. 1. 1. 1. 1. 1. 1.]\n",
            " [1. 1. 1. 1. 1. 1. 1. 1. 1. 1. 1. 1. 1. 1. 1. 1. 1. 1. 1. 1. 1. 1.]\n",
            " [1. 1. 1. 1. 1. 1. 1. 1. 1. 1. 1. 1. 1. 1. 1. 1. 1. 1. 1. 1. 1. 1.]]\n"
          ]
        }
      ]
    },
    {
      "cell_type": "markdown",
      "source": [
        "### Linespace\n",
        "* Prinera posicion -> valor inicial\n",
        "* Segunda posicion -> valor final\n",
        "* Tercer posicion -> numero de valores a general"
      ],
      "metadata": {
        "id": "poPlawNb0ERn"
      }
    },
    {
      "cell_type": "code",
      "source": [
        "arr = np.linspace(0, 11, 10)\n",
        "print(arr)"
      ],
      "metadata": {
        "colab": {
          "base_uri": "https://localhost:8080/",
          "height": 0
        },
        "id": "02se0Mc_0Lq0",
        "outputId": "af1494c8-d7eb-48ba-8ac2-bffcd05f5a14"
      },
      "execution_count": 36,
      "outputs": [
        {
          "output_type": "stream",
          "name": "stdout",
          "text": [
            "[ 0.          1.22222222  2.44444444  3.66666667  4.88888889  6.11111111\n",
            "  7.33333333  8.55555556  9.77777778 11.        ]\n"
          ]
        }
      ]
    },
    {
      "cell_type": "code",
      "source": [
        "arr = np.linspace(0, 11, 100)\n",
        "print(arr)"
      ],
      "metadata": {
        "colab": {
          "base_uri": "https://localhost:8080/",
          "height": 0
        },
        "id": "GKXcm_bl0uhO",
        "outputId": "c6a1686d-e82a-4530-8cf6-88e6bc78be06"
      },
      "execution_count": 37,
      "outputs": [
        {
          "output_type": "stream",
          "name": "stdout",
          "text": [
            "[ 0.          0.11111111  0.22222222  0.33333333  0.44444444  0.55555556\n",
            "  0.66666667  0.77777778  0.88888889  1.          1.11111111  1.22222222\n",
            "  1.33333333  1.44444444  1.55555556  1.66666667  1.77777778  1.88888889\n",
            "  2.          2.11111111  2.22222222  2.33333333  2.44444444  2.55555556\n",
            "  2.66666667  2.77777778  2.88888889  3.          3.11111111  3.22222222\n",
            "  3.33333333  3.44444444  3.55555556  3.66666667  3.77777778  3.88888889\n",
            "  4.          4.11111111  4.22222222  4.33333333  4.44444444  4.55555556\n",
            "  4.66666667  4.77777778  4.88888889  5.          5.11111111  5.22222222\n",
            "  5.33333333  5.44444444  5.55555556  5.66666667  5.77777778  5.88888889\n",
            "  6.          6.11111111  6.22222222  6.33333333  6.44444444  6.55555556\n",
            "  6.66666667  6.77777778  6.88888889  7.          7.11111111  7.22222222\n",
            "  7.33333333  7.44444444  7.55555556  7.66666667  7.77777778  7.88888889\n",
            "  8.          8.11111111  8.22222222  8.33333333  8.44444444  8.55555556\n",
            "  8.66666667  8.77777778  8.88888889  9.          9.11111111  9.22222222\n",
            "  9.33333333  9.44444444  9.55555556  9.66666667  9.77777778  9.88888889\n",
            " 10.         10.11111111 10.22222222 10.33333333 10.44444444 10.55555556\n",
            " 10.66666667 10.77777778 10.88888889 11.        ]\n"
          ]
        }
      ]
    },
    {
      "cell_type": "markdown",
      "source": [
        "### Matriz 4 * 4"
      ],
      "metadata": {
        "id": "0exxYGNG08Sw"
      }
    },
    {
      "cell_type": "code",
      "source": [
        "arr = np.eye(4)\n",
        "print(arr)"
      ],
      "metadata": {
        "colab": {
          "base_uri": "https://localhost:8080/",
          "height": 0
        },
        "id": "YaWzar5g0-x5",
        "outputId": "7ed6c73c-eaf9-4076-f369-d5a9917eee18"
      },
      "execution_count": 38,
      "outputs": [
        {
          "output_type": "stream",
          "name": "stdout",
          "text": [
            "[[1. 0. 0. 0.]\n",
            " [0. 1. 0. 0.]\n",
            " [0. 0. 1. 0.]\n",
            " [0. 0. 0. 1.]]\n"
          ]
        }
      ]
    },
    {
      "cell_type": "markdown",
      "source": [
        "### Valores aleatorio"
      ],
      "metadata": {
        "id": "rJjiyBW81GWY"
      }
    },
    {
      "cell_type": "code",
      "source": [
        "np.random.rand()"
      ],
      "metadata": {
        "colab": {
          "base_uri": "https://localhost:8080/",
          "height": 0
        },
        "id": "8ofzMWTA1KZd",
        "outputId": "9115ce2d-5bb7-4ba9-80ea-276127e7de73"
      },
      "execution_count": 40,
      "outputs": [
        {
          "output_type": "execute_result",
          "data": {
            "text/plain": [
              "0.739500527423516"
            ]
          },
          "metadata": {},
          "execution_count": 40
        }
      ]
    },
    {
      "cell_type": "code",
      "source": [
        "np.random.rand(4)"
      ],
      "metadata": {
        "colab": {
          "base_uri": "https://localhost:8080/",
          "height": 0
        },
        "id": "vMo0vgMz1VQF",
        "outputId": "f588872c-495e-4951-e761-1fcd21c41273"
      },
      "execution_count": 41,
      "outputs": [
        {
          "output_type": "execute_result",
          "data": {
            "text/plain": [
              "array([0.00521043, 0.17847171, 0.6608017 , 0.46740772])"
            ]
          },
          "metadata": {},
          "execution_count": 41
        }
      ]
    },
    {
      "cell_type": "code",
      "source": [
        "np.random.rand(4,4)"
      ],
      "metadata": {
        "colab": {
          "base_uri": "https://localhost:8080/",
          "height": 0
        },
        "id": "ik-Vuc_q1XWD",
        "outputId": "bb597d9e-0bfe-4644-d2f0-764fafa529f1"
      },
      "execution_count": 42,
      "outputs": [
        {
          "output_type": "execute_result",
          "data": {
            "text/plain": [
              "array([[0.12396485, 0.69269058, 0.2846455 , 0.66802689],\n",
              "       [0.23630049, 0.96865847, 0.79762348, 0.97664985],\n",
              "       [0.36565238, 0.4974646 , 0.12824545, 0.66152979],\n",
              "       [0.38234424, 0.19537674, 0.8656109 , 0.80425738]])"
            ]
          },
          "metadata": {},
          "execution_count": 42
        }
      ]
    },
    {
      "cell_type": "markdown",
      "source": [
        "### Entero aleatorio"
      ],
      "metadata": {
        "id": "LrVpjtbz1c12"
      }
    },
    {
      "cell_type": "code",
      "source": [
        "np.random.randint(1, 15)"
      ],
      "metadata": {
        "colab": {
          "base_uri": "https://localhost:8080/",
          "height": 0
        },
        "id": "NjCYk_O11faS",
        "outputId": "4957aa31-250b-4b67-87a1-55ae35554315"
      },
      "execution_count": 46,
      "outputs": [
        {
          "output_type": "execute_result",
          "data": {
            "text/plain": [
              "7"
            ]
          },
          "metadata": {},
          "execution_count": 46
        }
      ]
    },
    {
      "cell_type": "code",
      "source": [
        "np.random.randint(1, 100, (10,19))"
      ],
      "metadata": {
        "colab": {
          "base_uri": "https://localhost:8080/",
          "height": 0
        },
        "id": "UwIzxqWh1lJF",
        "outputId": "dd95bb6f-4ab4-4477-ccf0-25505cf88ef3"
      },
      "execution_count": 44,
      "outputs": [
        {
          "output_type": "execute_result",
          "data": {
            "text/plain": [
              "array([[19, 67, 34, 51, 87, 88, 11, 29, 51, 64, 38, 55, 75, 89, 52,  7,\n",
              "        42, 87,  2],\n",
              "       [ 1, 18, 48, 16, 83, 14, 19, 97, 84, 29, 41, 86, 43, 80, 89, 76,\n",
              "        51, 54, 51],\n",
              "       [73, 21, 64, 51, 93, 47,  8,  1, 15, 95, 18, 92, 55, 38, 75, 89,\n",
              "        69, 75, 84],\n",
              "       [50,  6, 14, 51, 16, 82, 87, 88, 35, 98, 32, 73, 16, 66, 76, 59,\n",
              "        44, 93, 24],\n",
              "       [88, 32, 62, 76, 45,  4, 28, 64, 13, 67, 54,  9, 85, 13, 36, 40,\n",
              "        24, 21, 23],\n",
              "       [27, 61, 20, 66, 59, 73, 56, 86, 50, 26, 13, 23, 76, 14, 46, 84,\n",
              "        74, 21, 99],\n",
              "       [87, 28, 89, 55, 47, 32, 75, 79, 34, 19, 70, 14, 17, 25, 48, 85,\n",
              "        59, 34, 77],\n",
              "       [65, 87, 53, 43, 65, 39, 37, 23,  4,  3, 52, 10, 22, 38, 63, 78,\n",
              "        78, 53, 89],\n",
              "       [ 4, 32, 73, 80, 90, 99, 43,  1, 86, 50, 94,  4, 17, 97, 63, 96,\n",
              "        13, 21, 59],\n",
              "       [76, 83, 61, 15, 20, 35, 91, 19, 54, 91, 99, 83, 61, 50, 81,  7,\n",
              "        88, 99, 48]])"
            ]
          },
          "metadata": {},
          "execution_count": 44
        }
      ]
    },
    {
      "cell_type": "markdown",
      "source": [
        "# Shape y Reshape\n"
      ],
      "metadata": {
        "id": "s8uFYySd2C9x"
      }
    },
    {
      "cell_type": "code",
      "source": [
        "import numpy as np"
      ],
      "metadata": {
        "id": "O23IgN1P2Ecf"
      },
      "execution_count": 4,
      "outputs": []
    },
    {
      "cell_type": "code",
      "source": [
        "arr = np.random.randint(1, 10, (3, 2))\n",
        "print(f'Array aleatorio de 1 a 10 con una dimension de 3x2')\n",
        "print(arr)"
      ],
      "metadata": {
        "colab": {
          "base_uri": "https://localhost:8080/",
          "height": 0
        },
        "id": "bhjDX2mX3JYL",
        "outputId": "bfbcb26b-f26b-4afd-dbde-c91faca3af71"
      },
      "execution_count": 5,
      "outputs": [
        {
          "output_type": "stream",
          "name": "stdout",
          "text": [
            "Array aleatorio de 1 a 10 con una dimension de 3x2\n",
            "[[1 5]\n",
            " [8 1]\n",
            " [9 6]]\n"
          ]
        }
      ]
    },
    {
      "cell_type": "markdown",
      "source": [
        "### Shape\n",
        "Shape retorna el tamaño o numero de dimensiones del arreglo, la forma que tiene el arreglo en si"
      ],
      "metadata": {
        "id": "Rtw6TP_W3iiS"
      }
    },
    {
      "cell_type": "code",
      "source": [
        "print(f'Cual es la dimension del arreglo?:{arr.shape}')"
      ],
      "metadata": {
        "colab": {
          "base_uri": "https://localhost:8080/",
          "height": 0
        },
        "id": "a1hdPwiP3Y2l",
        "outputId": "ef4e777d-093c-454c-bcf2-9189f758b5d8"
      },
      "execution_count": 6,
      "outputs": [
        {
          "output_type": "stream",
          "name": "stdout",
          "text": [
            "Cual es la dimension del arreglo?:(3, 2)\n"
          ]
        }
      ]
    },
    {
      "cell_type": "markdown",
      "source": [
        "### Reshape\n",
        "Cambia la forma establecida en un array definido anteriormente, en ejemplo, cambia el arreglo de 3x2 a 1x6.\n",
        "\n",
        "Para aplicar reshape es sustancial respetar el tamaño del array, es decir no aplica si es mas grande."
      ],
      "metadata": {
        "id": "Fsh8G7C_3vk2"
      }
    },
    {
      "cell_type": "code",
      "source": [
        "arr2 = arr.reshape(1, 6)\n",
        "print(arr2)"
      ],
      "metadata": {
        "colab": {
          "base_uri": "https://localhost:8080/",
          "height": 0
        },
        "id": "OdKDkwVB39ux",
        "outputId": "5de5c58f-3b6d-4df6-82c1-e63ab3ace37d"
      },
      "execution_count": 8,
      "outputs": [
        {
          "output_type": "stream",
          "name": "stdout",
          "text": [
            "[[1 5 8 1 9 6]]\n"
          ]
        }
      ]
    },
    {
      "cell_type": "code",
      "source": [
        "print(np.reshape(arr2, (2, 3)))"
      ],
      "metadata": {
        "colab": {
          "base_uri": "https://localhost:8080/",
          "height": 0
        },
        "id": "R7GNjook4b6a",
        "outputId": "711c2bc5-9e43-4782-936c-c6cc7c89c6ec"
      },
      "execution_count": 10,
      "outputs": [
        {
          "output_type": "stream",
          "name": "stdout",
          "text": [
            "[[1 5 8]\n",
            " [1 9 6]]\n"
          ]
        }
      ]
    },
    {
      "cell_type": "markdown",
      "source": [
        "Hacer reshape como en lenguaje c -> por filas"
      ],
      "metadata": {
        "id": "7GGgXHxp4sbZ"
      }
    },
    {
      "cell_type": "code",
      "source": [
        "np.reshape(arr2, (2,3), 'C')"
      ],
      "metadata": {
        "colab": {
          "base_uri": "https://localhost:8080/",
          "height": 0
        },
        "id": "BUSpJ1sg4wL1",
        "outputId": "d801b5f2-b891-419b-c11d-2689365adf61"
      },
      "execution_count": 54,
      "outputs": [
        {
          "output_type": "execute_result",
          "data": {
            "text/plain": [
              "array([[3, 2, 5],\n",
              "       [6, 2, 9]])"
            ]
          },
          "metadata": {},
          "execution_count": 54
        }
      ]
    },
    {
      "cell_type": "markdown",
      "source": [
        "Hacer reshape como en lenguaje foltran -> por columnas"
      ],
      "metadata": {
        "id": "qMZ5qLl749l2"
      }
    },
    {
      "cell_type": "code",
      "source": [
        "np.reshape(arr2, (2,3), 'F')"
      ],
      "metadata": {
        "colab": {
          "base_uri": "https://localhost:8080/",
          "height": 0
        },
        "id": "34M8JQZx5ATl",
        "outputId": "56755854-fedb-4ac7-f555-6d0ed1169078"
      },
      "execution_count": 55,
      "outputs": [
        {
          "output_type": "execute_result",
          "data": {
            "text/plain": [
              "array([[3, 5, 2],\n",
              "       [2, 6, 9]])"
            ]
          },
          "metadata": {},
          "execution_count": 55
        }
      ]
    },
    {
      "cell_type": "markdown",
      "source": [
        "Hacer reshape como mejor este optimzado para el sistema op en el que este corriendo"
      ],
      "metadata": {
        "id": "_xiFpjjE5Kfh"
      }
    },
    {
      "cell_type": "code",
      "source": [
        "np.reshape(arr2, (2,3), 'A')"
      ],
      "metadata": {
        "colab": {
          "base_uri": "https://localhost:8080/",
          "height": 0
        },
        "id": "AbgMVc7V5RhG",
        "outputId": "c38e2cac-62e5-4be7-d08f-23cb8eeccf84"
      },
      "execution_count": 56,
      "outputs": [
        {
          "output_type": "execute_result",
          "data": {
            "text/plain": [
              "array([[3, 2, 5],\n",
              "       [6, 2, 9]])"
            ]
          },
          "metadata": {},
          "execution_count": 56
        }
      ]
    },
    {
      "cell_type": "markdown",
      "source": [
        "# Funciones principales de Numpy"
      ],
      "metadata": {
        "id": "gSMvVKhQzqVo"
      }
    },
    {
      "cell_type": "code",
      "source": [
        "import numpy as np"
      ],
      "metadata": {
        "id": "NDvf7LsZzvdw"
      },
      "execution_count": 1,
      "outputs": []
    },
    {
      "cell_type": "code",
      "source": [
        "arr = np.random.randint(1, 20, 10)\n",
        "print(arr)"
      ],
      "metadata": {
        "colab": {
          "base_uri": "https://localhost:8080/",
          "height": 0
        },
        "id": "cQt7xmzaz01H",
        "outputId": "41b7a3dc-5dbc-428f-8059-e5d8b8212874"
      },
      "execution_count": 2,
      "outputs": [
        {
          "output_type": "stream",
          "name": "stdout",
          "text": [
            "[ 3 14 12  4  3  5 10 18  6 15]\n"
          ]
        }
      ]
    },
    {
      "cell_type": "code",
      "source": [
        "matriz = arr.reshape(2, 5)\n",
        "print(matriz)"
      ],
      "metadata": {
        "colab": {
          "base_uri": "https://localhost:8080/",
          "height": 0
        },
        "id": "X6ENVgeD0DIb",
        "outputId": "29eaf806-d5cf-47c3-d264-81aa6a233333"
      },
      "execution_count": 3,
      "outputs": [
        {
          "output_type": "stream",
          "name": "stdout",
          "text": [
            "[[ 3 14 12  4  3]\n",
            " [ 5 10 18  6 15]]\n"
          ]
        }
      ]
    },
    {
      "cell_type": "markdown",
      "source": [
        "#### Max\n",
        "Retorna el numero mas grande del array"
      ],
      "metadata": {
        "id": "pxXnZKqD0Nwp"
      }
    },
    {
      "cell_type": "code",
      "source": [
        "print(arr)\n",
        "arr.max()"
      ],
      "metadata": {
        "colab": {
          "base_uri": "https://localhost:8080/",
          "height": 0
        },
        "id": "jedYZsza0SVF",
        "outputId": "a780b125-9ea1-450c-b45d-18e79b45fcbe"
      },
      "execution_count": 5,
      "outputs": [
        {
          "output_type": "stream",
          "name": "stdout",
          "text": [
            "[ 3 14 12  4  3  5 10 18  6 15]\n"
          ]
        },
        {
          "output_type": "execute_result",
          "data": {
            "text/plain": [
              "18"
            ]
          },
          "metadata": {},
          "execution_count": 5
        }
      ]
    },
    {
      "cell_type": "markdown",
      "source": [
        "En matrices podemos obtener el mayor de cada fila indicandole el eje. Por ejemplo en el eje:\n",
        "* 1 lo hace obtebiendo el mayor de cada fila\n",
        "* 0 lo hace por columnas"
      ],
      "metadata": {
        "id": "UZSY1Jrs0lFI"
      }
    },
    {
      "cell_type": "code",
      "source": [
        "print(matriz)\n",
        "matriz.max()\n",
        "matriz.max(1)\n",
        "matriz.max(0)"
      ],
      "metadata": {
        "colab": {
          "base_uri": "https://localhost:8080/",
          "height": 0
        },
        "id": "_zjmTU5q0rcW",
        "outputId": "762f29ca-2ef2-464d-9144-c794df193d95"
      },
      "execution_count": 9,
      "outputs": [
        {
          "output_type": "stream",
          "name": "stdout",
          "text": [
            "[[ 3 14 12  4  3]\n",
            " [ 5 10 18  6 15]]\n"
          ]
        },
        {
          "output_type": "execute_result",
          "data": {
            "text/plain": [
              "array([ 5, 14, 18,  6, 15])"
            ]
          },
          "metadata": {},
          "execution_count": 9
        }
      ]
    },
    {
      "cell_type": "markdown",
      "source": [
        "##### Indice del valor mas grande\n",
        "Por ejemplo para el array = \n",
        "```sh\n",
        "[ 3 14 12  4  3  5 10 18  6 15]\n",
        "arr.argmax()\n",
        "-> 7\n",
        "```\n",
        "Para el ejemplo la funcion armax() retorna una posicion, en este caso el valor mas grande se encuentra en la posicion numero 7 siendo este el numero 18"
      ],
      "metadata": {
        "id": "5mzW3K4W15j-"
      }
    },
    {
      "cell_type": "code",
      "source": [
        "print(arr)\n",
        "arr.argmax()"
      ],
      "metadata": {
        "colab": {
          "base_uri": "https://localhost:8080/",
          "height": 0
        },
        "id": "9MsI1FRe1-6i",
        "outputId": "5f13b203-47d8-42de-bf43-7c78ffabc8c6"
      },
      "execution_count": 15,
      "outputs": [
        {
          "output_type": "stream",
          "name": "stdout",
          "text": [
            "[ 3 14 12  4  3  5 10 18  6 15]\n"
          ]
        },
        {
          "output_type": "execute_result",
          "data": {
            "text/plain": [
              "7"
            ]
          },
          "metadata": {},
          "execution_count": 15
        }
      ]
    },
    {
      "cell_type": "markdown",
      "source": [
        "En el caso de las matrices"
      ],
      "metadata": {
        "id": "_QAdJHkz20Q_"
      }
    },
    {
      "cell_type": "code",
      "source": [
        "print(matriz)\n",
        "matriz.argmax()"
      ],
      "metadata": {
        "colab": {
          "base_uri": "https://localhost:8080/",
          "height": 0
        },
        "id": "g3ApsAQ_2y89",
        "outputId": "ebeb5bce-a22d-45ca-b54c-bb2543403f48"
      },
      "execution_count": 16,
      "outputs": [
        {
          "output_type": "stream",
          "name": "stdout",
          "text": [
            "[[ 3 14 12  4  3]\n",
            " [ 5 10 18  6 15]]\n"
          ]
        },
        {
          "output_type": "execute_result",
          "data": {
            "text/plain": [
              "7"
            ]
          },
          "metadata": {},
          "execution_count": 16
        }
      ]
    },
    {
      "cell_type": "markdown",
      "source": [
        "De igual menera podemos consultar el mayor por fila y por columna"
      ],
      "metadata": {
        "id": "58qVnUDJ3BWi"
      }
    },
    {
      "cell_type": "code",
      "source": [
        "print(matriz)\n",
        "print(f'Mayor por columna:{matriz.max(0)}')"
      ],
      "metadata": {
        "colab": {
          "base_uri": "https://localhost:8080/",
          "height": 0
        },
        "id": "sB38MIPF3cJc",
        "outputId": "3ab78342-5510-4000-b8c3-29cb2650e30e"
      },
      "execution_count": 22,
      "outputs": [
        {
          "output_type": "stream",
          "name": "stdout",
          "text": [
            "[[ 3 14 12  4  3]\n",
            " [ 5 10 18  6 15]]\n",
            "Mayor por columna:[ 5 14 18  6 15]\n"
          ]
        }
      ]
    },
    {
      "cell_type": "code",
      "source": [
        "print(matriz)\n",
        "print(f'Mayor por columna:{matriz.max(1)}')"
      ],
      "metadata": {
        "colab": {
          "base_uri": "https://localhost:8080/",
          "height": 0
        },
        "id": "2mycVx8Z3Ak3",
        "outputId": "74cf9899-0822-4f61-ed14-33868bd1ac96"
      },
      "execution_count": 23,
      "outputs": [
        {
          "output_type": "stream",
          "name": "stdout",
          "text": [
            "[[ 3 14 12  4  3]\n",
            " [ 5 10 18  6 15]]\n",
            "Mayor por columna:[14 18]\n"
          ]
        }
      ]
    },
    {
      "cell_type": "markdown",
      "source": [
        "##### Indice del valor mas pequeño\n",
        "De igual manera tenemos la funcion min la cual retorna el valor mas pequeño del array o matriz"
      ],
      "metadata": {
        "id": "xV4SSvB936zn"
      }
    },
    {
      "cell_type": "code",
      "source": [
        "print(arr)"
      ],
      "metadata": {
        "colab": {
          "base_uri": "https://localhost:8080/",
          "height": 0
        },
        "id": "9YoHyCpj4GRe",
        "outputId": "6e86ae71-6539-4fc7-bcb9-aecc9ff6e5c6"
      },
      "execution_count": 24,
      "outputs": [
        {
          "output_type": "stream",
          "name": "stdout",
          "text": [
            "[ 3 14 12  4  3  5 10 18  6 15]\n"
          ]
        }
      ]
    },
    {
      "cell_type": "code",
      "source": [
        "arr.min()"
      ],
      "metadata": {
        "colab": {
          "base_uri": "https://localhost:8080/",
          "height": 0
        },
        "id": "4owv70fx4OLZ",
        "outputId": "763ed6b0-0806-4791-b647-ed54c007a097"
      },
      "execution_count": 25,
      "outputs": [
        {
          "output_type": "execute_result",
          "data": {
            "text/plain": [
              "3"
            ]
          },
          "metadata": {},
          "execution_count": 25
        }
      ]
    },
    {
      "cell_type": "code",
      "source": [
        "arr.argmin()"
      ],
      "metadata": {
        "colab": {
          "base_uri": "https://localhost:8080/",
          "height": 0
        },
        "id": "Eywt04lH4QS1",
        "outputId": "5453d6c5-f0de-4e64-8acf-f1ffc3942661"
      },
      "execution_count": 27,
      "outputs": [
        {
          "output_type": "execute_result",
          "data": {
            "text/plain": [
              "0"
            ]
          },
          "metadata": {},
          "execution_count": 27
        }
      ]
    },
    {
      "cell_type": "code",
      "source": [
        "print(matriz)"
      ],
      "metadata": {
        "colab": {
          "base_uri": "https://localhost:8080/",
          "height": 0
        },
        "id": "rtyc58lx4Wjt",
        "outputId": "5cd673d7-52ad-455c-adb4-5dabc3cf1978"
      },
      "execution_count": 29,
      "outputs": [
        {
          "output_type": "stream",
          "name": "stdout",
          "text": [
            "[[ 3 14 12  4  3]\n",
            " [ 5 10 18  6 15]]\n"
          ]
        }
      ]
    },
    {
      "cell_type": "code",
      "source": [
        "matriz.min()"
      ],
      "metadata": {
        "colab": {
          "base_uri": "https://localhost:8080/",
          "height": 0
        },
        "id": "WxFDr8HT4aio",
        "outputId": "a2698314-59f8-4625-b735-369cc4112846"
      },
      "execution_count": 32,
      "outputs": [
        {
          "output_type": "execute_result",
          "data": {
            "text/plain": [
              "3"
            ]
          },
          "metadata": {},
          "execution_count": 32
        }
      ]
    },
    {
      "cell_type": "code",
      "source": [
        "matriz.min(0)"
      ],
      "metadata": {
        "colab": {
          "base_uri": "https://localhost:8080/",
          "height": 0
        },
        "id": "KzihDi-X4eBP",
        "outputId": "420073ea-1b54-4d48-dc79-55a42213b830"
      },
      "execution_count": 33,
      "outputs": [
        {
          "output_type": "execute_result",
          "data": {
            "text/plain": [
              "array([ 3, 10, 12,  4,  3])"
            ]
          },
          "metadata": {},
          "execution_count": 33
        }
      ]
    },
    {
      "cell_type": "code",
      "source": [
        "matriz.min(1)"
      ],
      "metadata": {
        "colab": {
          "base_uri": "https://localhost:8080/",
          "height": 0
        },
        "id": "krlo0BcM4gS0",
        "outputId": "c73bf87e-d0b3-4aa5-9292-08d11bdb2554"
      },
      "execution_count": 34,
      "outputs": [
        {
          "output_type": "execute_result",
          "data": {
            "text/plain": [
              "array([3, 5])"
            ]
          },
          "metadata": {},
          "execution_count": 34
        }
      ]
    },
    {
      "cell_type": "markdown",
      "source": [
        "##### Pico mas alto al mas bajo\n",
        "Obtine la diferencia numerica entre el valor mayor y el menor"
      ],
      "metadata": {
        "id": "LezQBaqk4-Nd"
      }
    },
    {
      "cell_type": "code",
      "source": [
        "print(arr)"
      ],
      "metadata": {
        "colab": {
          "base_uri": "https://localhost:8080/",
          "height": 0
        },
        "id": "gIv_JG6Z435l",
        "outputId": "4f067557-c4e3-4cf9-c4e9-4cb07f7b9582"
      },
      "execution_count": 36,
      "outputs": [
        {
          "output_type": "stream",
          "name": "stdout",
          "text": [
            "[ 3 14 12  4  3  5 10 18  6 15]\n"
          ]
        }
      ]
    },
    {
      "cell_type": "markdown",
      "source": [
        "El elemento menor es el 3 y el mayor es el 18\n",
        "Del 3 al 18 hay una diferencia o pasos de 15 numeros."
      ],
      "metadata": {
        "id": "-e6CO-Dx5UoD"
      }
    },
    {
      "cell_type": "code",
      "source": [
        "arr.ptp()"
      ],
      "metadata": {
        "colab": {
          "base_uri": "https://localhost:8080/",
          "height": 0
        },
        "id": "qKShYrFO5KyC",
        "outputId": "8fbc218a-99c7-4788-e251-24a3ebf15b65"
      },
      "execution_count": 37,
      "outputs": [
        {
          "output_type": "execute_result",
          "data": {
            "text/plain": [
              "15"
            ]
          },
          "metadata": {},
          "execution_count": 37
        }
      ]
    },
    {
      "cell_type": "code",
      "source": [
        "print(matriz)"
      ],
      "metadata": {
        "colab": {
          "base_uri": "https://localhost:8080/",
          "height": 0
        },
        "id": "4J5bIINr5fws",
        "outputId": "2a1d47d8-0b37-42f4-b3b7-653cd5b81715"
      },
      "execution_count": 38,
      "outputs": [
        {
          "output_type": "stream",
          "name": "stdout",
          "text": [
            "[[ 3 14 12  4  3]\n",
            " [ 5 10 18  6 15]]\n"
          ]
        }
      ]
    },
    {
      "cell_type": "code",
      "source": [
        "matriz.ptp(1)"
      ],
      "metadata": {
        "colab": {
          "base_uri": "https://localhost:8080/",
          "height": 0
        },
        "id": "6s7Yijsn5jlz",
        "outputId": "18aa0aa5-d1cd-4896-f4f6-b2e809b7c334"
      },
      "execution_count": 39,
      "outputs": [
        {
          "output_type": "execute_result",
          "data": {
            "text/plain": [
              "array([11, 13])"
            ]
          },
          "metadata": {},
          "execution_count": 39
        }
      ]
    },
    {
      "cell_type": "code",
      "source": [
        "matriz.ptp(0)"
      ],
      "metadata": {
        "colab": {
          "base_uri": "https://localhost:8080/",
          "height": 0
        },
        "id": "vGd-o1mv5phs",
        "outputId": "83108e6a-8af9-41f6-e03e-3fb5485a870b"
      },
      "execution_count": 40,
      "outputs": [
        {
          "output_type": "execute_result",
          "data": {
            "text/plain": [
              "array([ 2,  4,  6,  2, 12])"
            ]
          },
          "metadata": {},
          "execution_count": 40
        }
      ]
    },
    {
      "cell_type": "markdown",
      "source": [
        "##### Operacion de Persentil\n",
        "Cual es el valor que se encuentra en la mitad"
      ],
      "metadata": {
        "id": "W4VJagLE5z1f"
      }
    },
    {
      "cell_type": "code",
      "source": [
        "print(arr)"
      ],
      "metadata": {
        "colab": {
          "base_uri": "https://localhost:8080/",
          "height": 0
        },
        "id": "s33-DfRB58YK",
        "outputId": "62bd6b81-ae86-4775-d420-82f7af4676b4"
      },
      "execution_count": 41,
      "outputs": [
        {
          "output_type": "stream",
          "name": "stdout",
          "text": [
            "[ 3 14 12  4  3  5 10 18  6 15]\n"
          ]
        }
      ]
    },
    {
      "cell_type": "code",
      "source": [
        "np.percentile(arr, 50)"
      ],
      "metadata": {
        "colab": {
          "base_uri": "https://localhost:8080/",
          "height": 0
        },
        "id": "ZPZdGGBz5-0B",
        "outputId": "4df7123b-3658-499b-bc20-96be2cd2cfef"
      },
      "execution_count": 42,
      "outputs": [
        {
          "output_type": "execute_result",
          "data": {
            "text/plain": [
              "8.0"
            ]
          },
          "metadata": {},
          "execution_count": 42
        }
      ]
    },
    {
      "cell_type": "code",
      "source": [
        "np.percentile(arr, 0)"
      ],
      "metadata": {
        "colab": {
          "base_uri": "https://localhost:8080/",
          "height": 0
        },
        "id": "dR2D7Upo6I2u",
        "outputId": "cc472c6f-0d44-4062-eccd-c95dc314ca04"
      },
      "execution_count": 43,
      "outputs": [
        {
          "output_type": "execute_result",
          "data": {
            "text/plain": [
              "3.0"
            ]
          },
          "metadata": {},
          "execution_count": 43
        }
      ]
    },
    {
      "cell_type": "code",
      "source": [
        "np.percentile(arr, 100)"
      ],
      "metadata": {
        "colab": {
          "base_uri": "https://localhost:8080/",
          "height": 0
        },
        "id": "v9ineSKG6K1t",
        "outputId": "aebbb3dd-dd6d-4d00-fb37-2e52476e6673"
      },
      "execution_count": 44,
      "outputs": [
        {
          "output_type": "execute_result",
          "data": {
            "text/plain": [
              "18.0"
            ]
          },
          "metadata": {},
          "execution_count": 44
        }
      ]
    },
    {
      "cell_type": "markdown",
      "source": [
        "##### Ordenamiento\n",
        "Con la funcion sort los elementos seran ordenados de acuerdo a su peso matematico"
      ],
      "metadata": {
        "id": "N-WScX0I6RlT"
      }
    },
    {
      "cell_type": "code",
      "source": [
        "print(arr)\n",
        "print(np.sort(arr))"
      ],
      "metadata": {
        "colab": {
          "base_uri": "https://localhost:8080/",
          "height": 0
        },
        "id": "vH09hc806aGI",
        "outputId": "8e26a153-50b0-4d8d-af45-b3ecb0a4bda7"
      },
      "execution_count": 46,
      "outputs": [
        {
          "output_type": "stream",
          "name": "stdout",
          "text": [
            "[ 3 14 12  4  3  5 10 18  6 15]\n",
            "[ 3  3  4  5  6 10 12 14 15 18]\n"
          ]
        }
      ]
    },
    {
      "cell_type": "markdown",
      "source": [
        "#####  Mediana\n",
        "Indica la mitad del array"
      ],
      "metadata": {
        "id": "go3Bpm9e73kc"
      }
    },
    {
      "cell_type": "code",
      "source": [
        "print(arr)"
      ],
      "metadata": {
        "colab": {
          "base_uri": "https://localhost:8080/",
          "height": 0
        },
        "id": "0u19QmrH8ND9",
        "outputId": "d0d07353-5d15-43be-8a6f-928365d40a6a"
      },
      "execution_count": 47,
      "outputs": [
        {
          "output_type": "stream",
          "name": "stdout",
          "text": [
            "[ 3 14 12  4  3  5 10 18  6 15]\n"
          ]
        }
      ]
    },
    {
      "cell_type": "code",
      "source": [
        "np.median(arr)"
      ],
      "metadata": {
        "colab": {
          "base_uri": "https://localhost:8080/",
          "height": 0
        },
        "id": "5UIT0gGZ8SRT",
        "outputId": "295d4201-a0ee-4c32-dce5-0f52c169259f"
      },
      "execution_count": 48,
      "outputs": [
        {
          "output_type": "execute_result",
          "data": {
            "text/plain": [
              "8.0"
            ]
          },
          "metadata": {},
          "execution_count": 48
        }
      ]
    },
    {
      "cell_type": "code",
      "source": [
        "np.median(matriz, 0)"
      ],
      "metadata": {
        "colab": {
          "base_uri": "https://localhost:8080/",
          "height": 0
        },
        "id": "cZH9I2rv9iTE",
        "outputId": "73eb6a44-12fd-4e7e-cc58-66209d82c1df"
      },
      "execution_count": 49,
      "outputs": [
        {
          "output_type": "execute_result",
          "data": {
            "text/plain": [
              "array([ 4., 12., 15.,  5.,  9.])"
            ]
          },
          "metadata": {},
          "execution_count": 49
        }
      ]
    },
    {
      "cell_type": "code",
      "source": [
        "np.median(matriz, 1)"
      ],
      "metadata": {
        "colab": {
          "base_uri": "https://localhost:8080/",
          "height": 0
        },
        "id": "oiA8Cj0v9mTF",
        "outputId": "81bd1500-d76c-4635-e43e-b7b5fb8f798b"
      },
      "execution_count": 50,
      "outputs": [
        {
          "output_type": "execute_result",
          "data": {
            "text/plain": [
              "array([ 4., 10.])"
            ]
          },
          "metadata": {},
          "execution_count": 50
        }
      ]
    },
    {
      "cell_type": "markdown",
      "source": [
        "##### Desviacion estandar"
      ],
      "metadata": {
        "id": "X_nwZyZ39cNJ"
      }
    },
    {
      "cell_type": "code",
      "source": [
        "np.std(arr)"
      ],
      "metadata": {
        "colab": {
          "base_uri": "https://localhost:8080/",
          "height": 0
        },
        "id": "IPKd23mE9qd0",
        "outputId": "049f48b3-fbe0-436f-c60f-a6c677586193"
      },
      "execution_count": 51,
      "outputs": [
        {
          "output_type": "execute_result",
          "data": {
            "text/plain": [
              "5.2345009313209605"
            ]
          },
          "metadata": {},
          "execution_count": 51
        }
      ]
    },
    {
      "cell_type": "markdown",
      "source": [
        "##### Varianza"
      ],
      "metadata": {
        "id": "b5IePHda94Js"
      }
    },
    {
      "cell_type": "code",
      "source": [
        "np.var(arr)"
      ],
      "metadata": {
        "colab": {
          "base_uri": "https://localhost:8080/",
          "height": 0
        },
        "id": "ihsQCD6c91AA",
        "outputId": "b6a549b2-c754-4864-f403-60f8473e5e0c"
      },
      "execution_count": 52,
      "outputs": [
        {
          "output_type": "execute_result",
          "data": {
            "text/plain": [
              "27.4"
            ]
          },
          "metadata": {},
          "execution_count": 52
        }
      ]
    },
    {
      "cell_type": "markdown",
      "source": [
        "##### Media\n",
        "La suma de todos los valores "
      ],
      "metadata": {
        "id": "FcI4PMi_-Dli"
      }
    },
    {
      "cell_type": "code",
      "source": [
        "np.mean(arr)"
      ],
      "metadata": {
        "colab": {
          "base_uri": "https://localhost:8080/",
          "height": 0
        },
        "id": "2Kbfkqns-GHB",
        "outputId": "251d6d7e-ac31-4a31-e28a-657b1d81e8c8"
      },
      "execution_count": 53,
      "outputs": [
        {
          "output_type": "execute_result",
          "data": {
            "text/plain": [
              "9.0"
            ]
          },
          "metadata": {},
          "execution_count": 53
        }
      ]
    },
    {
      "cell_type": "markdown",
      "source": [
        "##### Concact"
      ],
      "metadata": {
        "id": "66iaWTU--uE3"
      }
    },
    {
      "cell_type": "code",
      "source": [
        "a = np.array([[1, 2,], [3, 4]])\n",
        "b = np.array([4, 5])"
      ],
      "metadata": {
        "id": "zppfVC-9_HqV"
      },
      "execution_count": 54,
      "outputs": []
    },
    {
      "cell_type": "markdown",
      "source": [
        "A la funcion debemos pasarle los array a concatenar y el eje"
      ],
      "metadata": {
        "id": "HBI_m0D2_aiP"
      }
    },
    {
      "cell_type": "code",
      "source": [
        "#np.concatenate((a, b), axis=0)"
      ],
      "metadata": {
        "id": "jIvZjYXB_TEw"
      },
      "execution_count": 56,
      "outputs": []
    },
    {
      "cell_type": "markdown",
      "source": [
        "Al ser distintas las dimensiones del array a con respecto al b retonr un error"
      ],
      "metadata": {
        "id": "grmMXHKD_mDt"
      }
    },
    {
      "cell_type": "code",
      "source": [
        "a.ndim"
      ],
      "metadata": {
        "colab": {
          "base_uri": "https://localhost:8080/",
          "height": 0
        },
        "id": "PLfJjZki_sKn",
        "outputId": "45e6b054-da5d-4bdc-c463-d12d9e5a550f"
      },
      "execution_count": 61,
      "outputs": [
        {
          "output_type": "execute_result",
          "data": {
            "text/plain": [
              "2"
            ]
          },
          "metadata": {},
          "execution_count": 61
        }
      ]
    },
    {
      "cell_type": "code",
      "source": [
        "b.ndim"
      ],
      "metadata": {
        "colab": {
          "base_uri": "https://localhost:8080/",
          "height": 0
        },
        "id": "yvazYib8_woj",
        "outputId": "f67f7b62-731a-4b40-925b-08f4de24fb71"
      },
      "execution_count": 59,
      "outputs": [
        {
          "output_type": "execute_result",
          "data": {
            "text/plain": [
              "1"
            ]
          },
          "metadata": {},
          "execution_count": 59
        }
      ]
    },
    {
      "cell_type": "markdown",
      "source": [
        "Debemos redimensionar b para que sea de 2 dimensniones como a"
      ],
      "metadata": {
        "id": "b79605KxAB6L"
      }
    },
    {
      "cell_type": "code",
      "source": [
        "b = np.expand_dims(b, axis=0)"
      ],
      "metadata": {
        "id": "hKVkJQ0_AG6x"
      },
      "execution_count": 62,
      "outputs": []
    },
    {
      "cell_type": "markdown",
      "source": [
        "Luego entonces es posible concatenar los array"
      ],
      "metadata": {
        "id": "HIapki3SAQO6"
      }
    },
    {
      "cell_type": "code",
      "source": [
        "print(np.concatenate((a, b), axis=0))"
      ],
      "metadata": {
        "colab": {
          "base_uri": "https://localhost:8080/",
          "height": 0
        },
        "id": "GLSc1Eq_AU-C",
        "outputId": "06d98744-0241-49e6-dfe7-f6abe822286d"
      },
      "execution_count": 64,
      "outputs": [
        {
          "output_type": "stream",
          "name": "stdout",
          "text": [
            "[[1 2]\n",
            " [3 4]\n",
            " [4 5]]\n"
          ]
        }
      ]
    },
    {
      "cell_type": "markdown",
      "source": [
        "Si en cambio queremos concatenar por eje 1, retorna otro error ya que la estructura de b es diferente al de a"
      ],
      "metadata": {
        "id": "dumLxOviAh52"
      }
    },
    {
      "cell_type": "code",
      "source": [
        "#np.concatenate((a, b), axis=1)"
      ],
      "metadata": {
        "id": "8Y-Il_65AuhJ"
      },
      "execution_count": 66,
      "outputs": []
    },
    {
      "cell_type": "code",
      "source": [
        "print(a)\n",
        "print()\n",
        "print(b)"
      ],
      "metadata": {
        "colab": {
          "base_uri": "https://localhost:8080/",
          "height": 0
        },
        "id": "mhg28-BSAyIX",
        "outputId": "91710871-ff51-44c4-cb55-4c5de1d1c061"
      },
      "execution_count": 69,
      "outputs": [
        {
          "output_type": "stream",
          "name": "stdout",
          "text": [
            "[[1 2]\n",
            " [3 4]]\n",
            "\n",
            "[[4 5]]\n"
          ]
        }
      ]
    },
    {
      "cell_type": "markdown",
      "source": [
        "Podriamos realizar un reshape pero tambien existe una funcion llamada transpuesto que lo que hace es hacer a b como a es decir cambiarle la forma\n",
        "La transpueste se expresa con la T mayuscula"
      ],
      "metadata": {
        "id": "cK9gKu9IA5ee"
      }
    },
    {
      "cell_type": "code",
      "source": [
        "np.concatenate((a, b.T), axis=1)"
      ],
      "metadata": {
        "colab": {
          "base_uri": "https://localhost:8080/",
          "height": 0
        },
        "id": "sBbc1_RsA0pz",
        "outputId": "4e62168d-6c0c-4a33-95b1-455f77faebc2"
      },
      "execution_count": 71,
      "outputs": [
        {
          "output_type": "execute_result",
          "data": {
            "text/plain": [
              "array([[1, 2, 4],\n",
              "       [3, 4, 5]])"
            ]
          },
          "metadata": {},
          "execution_count": 71
        }
      ]
    },
    {
      "cell_type": "code",
      "source": [
        "print(b)\n",
        "print()\n",
        "print(b.T)"
      ],
      "metadata": {
        "colab": {
          "base_uri": "https://localhost:8080/",
          "height": 0
        },
        "id": "jlni5l0LBVjM",
        "outputId": "aacf90a0-9f3e-4bd2-ef76-07828dd85498"
      },
      "execution_count": 73,
      "outputs": [
        {
          "output_type": "stream",
          "name": "stdout",
          "text": [
            "[[4 5]]\n",
            "\n",
            "[[4]\n",
            " [5]]\n"
          ]
        }
      ]
    },
    {
      "cell_type": "markdown",
      "source": [
        "# Copy"
      ],
      "metadata": {
        "id": "mzx8Ct-3CMZ7"
      }
    },
    {
      "cell_type": "code",
      "source": [
        "import numpy as np"
      ],
      "metadata": {
        "id": "frB1awk1CcLd"
      },
      "execution_count": 74,
      "outputs": []
    },
    {
      "cell_type": "code",
      "source": [
        "arr = np.arange(1, 12)\n",
        "print(arr)"
      ],
      "metadata": {
        "colab": {
          "base_uri": "https://localhost:8080/",
          "height": 0
        },
        "id": "GxShz7UkCfF-",
        "outputId": "41314d97-1acb-4f0e-b7e1-b1882c0ef596"
      },
      "execution_count": 75,
      "outputs": [
        {
          "output_type": "stream",
          "name": "stdout",
          "text": [
            "[ 1  2  3  4  5  6  7  8  9 10 11]\n"
          ]
        }
      ]
    },
    {
      "cell_type": "code",
      "source": [
        "trozo_arr = arr[0:6]\n",
        "print(trozo_arr)"
      ],
      "metadata": {
        "colab": {
          "base_uri": "https://localhost:8080/",
          "height": 0
        },
        "id": "XSC62gxKCmAL",
        "outputId": "c1553254-da34-480e-de48-2da00d5ed888"
      },
      "execution_count": 76,
      "outputs": [
        {
          "output_type": "stream",
          "name": "stdout",
          "text": [
            "[1 2 3 4 5 6]\n"
          ]
        }
      ]
    },
    {
      "cell_type": "markdown",
      "source": [
        "Suponiendo que el trozo d los primeros 5 valores necesitara que fueran 0, lo que ocurre sin usar la funcion copy de numpay es que el vector o arra original tambien cambia"
      ],
      "metadata": {
        "id": "Bg9d4WSyC124"
      }
    },
    {
      "cell_type": "code",
      "source": [
        "trozo_arr[:] = 0\n",
        "print(trozo_arr)\n",
        "print(arr)"
      ],
      "metadata": {
        "colab": {
          "base_uri": "https://localhost:8080/",
          "height": 0
        },
        "id": "RtJODp3ACtrH",
        "outputId": "8a721f5e-0a93-4ec6-985b-b6240173707b"
      },
      "execution_count": 78,
      "outputs": [
        {
          "output_type": "stream",
          "name": "stdout",
          "text": [
            "[0 0 0 0 0 0]\n",
            "[ 0  0  0  0  0  0  7  8  9 10 11]\n"
          ]
        }
      ]
    },
    {
      "cell_type": "markdown",
      "source": [
        "Esto ocurre porque aunque trozo_arr es nuevo este sigue haciendo referencia a arr por tanto a su referencia en memeoria.\n",
        "\n",
        "Para evitarlo debemos invocar la funcion copy de numpy"
      ],
      "metadata": {
        "id": "FrTxp_EFDLqa"
      }
    },
    {
      "cell_type": "code",
      "source": [
        "arr_copy = arr.copy()\n",
        "print(arr_copy)"
      ],
      "metadata": {
        "colab": {
          "base_uri": "https://localhost:8080/",
          "height": 0
        },
        "id": "fCDd9gqPDj1K",
        "outputId": "cabc1b63-b1d6-4927-c4aa-5c06844eb9a4"
      },
      "execution_count": 81,
      "outputs": [
        {
          "output_type": "stream",
          "name": "stdout",
          "text": [
            "[ 0  0  0  0  0  0  7  8  9 10 11]\n"
          ]
        }
      ]
    },
    {
      "cell_type": "code",
      "source": [
        "arr_copy[:] = 100\n",
        "print(arr_copy)"
      ],
      "metadata": {
        "colab": {
          "base_uri": "https://localhost:8080/",
          "height": 0
        },
        "id": "zkq8wCW3Dy9T",
        "outputId": "64f211b4-9bb7-4784-ddba-da5888b0248b"
      },
      "execution_count": 85,
      "outputs": [
        {
          "output_type": "stream",
          "name": "stdout",
          "text": [
            "[100 100 100 100 100 100 100 100 100 100 100]\n"
          ]
        }
      ]
    },
    {
      "cell_type": "markdown",
      "source": [
        "Copy respeta al vector o array original"
      ],
      "metadata": {
        "id": "wuA7TW3sEAvX"
      }
    },
    {
      "cell_type": "code",
      "source": [
        "print(arr)"
      ],
      "metadata": {
        "colab": {
          "base_uri": "https://localhost:8080/",
          "height": 0
        },
        "id": "TIWzvFdVD5ti",
        "outputId": "61332331-1278-48fc-9249-07dfee91c707"
      },
      "execution_count": 84,
      "outputs": [
        {
          "output_type": "stream",
          "name": "stdout",
          "text": [
            "[ 0  0  0  0  0  0  7  8  9 10 11]\n"
          ]
        }
      ]
    },
    {
      "cell_type": "markdown",
      "source": [],
      "metadata": {
        "id": "vH_LZPZZEJ9G"
      }
    },
    {
      "cell_type": "markdown",
      "source": [
        "# Condiciones"
      ],
      "metadata": {
        "id": "ggeVcxL1EMMA"
      }
    },
    {
      "cell_type": "code",
      "source": [
        "import numpy as np"
      ],
      "metadata": {
        "id": "RTSMEZxGGDTX"
      },
      "execution_count": 86,
      "outputs": []
    },
    {
      "cell_type": "markdown",
      "source": [
        "Inicio, Fin, numero de valores tipo de datos de los valores"
      ],
      "metadata": {
        "id": "bSn0z7njGmel"
      }
    },
    {
      "cell_type": "code",
      "source": [
        "#Inicio, Fin, numero de valores tipo de datos de los valores\n",
        "arr = np.linspace(1, 10, 10, dtype='int8')\n",
        "print(arr)"
      ],
      "metadata": {
        "colab": {
          "base_uri": "https://localhost:8080/"
        },
        "id": "lvJ-3U3vGdcA",
        "outputId": "1d43bd7a-6835-4275-f4cc-18721c8eb5b3"
      },
      "execution_count": 105,
      "outputs": [
        {
          "output_type": "stream",
          "name": "stdout",
          "text": [
            "[ 1  2  3  4  5  6  7  8  9 10]\n"
          ]
        }
      ]
    },
    {
      "cell_type": "markdown",
      "source": [
        "### Condicionales"
      ],
      "metadata": {
        "id": "bWrYe4b1G1zT"
      }
    },
    {
      "cell_type": "code",
      "source": [
        "#mayores a 5\n",
        "may_cinco = arr > 5\n",
        "print(may_cinco)"
      ],
      "metadata": {
        "colab": {
          "base_uri": "https://localhost:8080/"
        },
        "id": "qXYMLMWGG8Ib",
        "outputId": "d3225260-a990-446a-a751-9e930b7634d3"
      },
      "execution_count": 89,
      "outputs": [
        {
          "output_type": "stream",
          "name": "stdout",
          "text": [
            "[False False False False False  True  True  True  True  True]\n"
          ]
        }
      ]
    },
    {
      "cell_type": "code",
      "source": [
        "print(arr[may_cinco])"
      ],
      "metadata": {
        "colab": {
          "base_uri": "https://localhost:8080/"
        },
        "id": "ert_WQK0HP_9",
        "outputId": "18c25c8c-92a6-4740-9bbd-90015a7c1c91"
      },
      "execution_count": 91,
      "outputs": [
        {
          "output_type": "stream",
          "name": "stdout",
          "text": [
            "[ 6  7  8  9 10]\n"
          ]
        }
      ]
    },
    {
      "cell_type": "markdown",
      "source": [
        "Aquellos valores que sean mayor a 5 y ademas menores de 9"
      ],
      "metadata": {
        "id": "G1EIaD-SHc9K"
      }
    },
    {
      "cell_type": "code",
      "source": [
        "print(arr[(arr > 5) & (arr < 9)])"
      ],
      "metadata": {
        "colab": {
          "base_uri": "https://localhost:8080/"
        },
        "id": "jZektRczHcN_",
        "outputId": "e90184b3-b18f-4f94-ff1e-c45d88049c56"
      },
      "execution_count": 92,
      "outputs": [
        {
          "output_type": "stream",
          "name": "stdout",
          "text": [
            "[6 7 8]\n"
          ]
        }
      ]
    },
    {
      "cell_type": "markdown",
      "source": [
        "Para aquellos valores que sean mayores a cinco cambiar el valor a 99"
      ],
      "metadata": {
        "id": "dR8U918sH8dP"
      }
    },
    {
      "cell_type": "code",
      "source": [
        "arr[arr > 5] = 99\n",
        "print(arr)"
      ],
      "metadata": {
        "colab": {
          "base_uri": "https://localhost:8080/"
        },
        "id": "oQMLqnQzH2oT",
        "outputId": "8ef843fa-3e53-4c7c-95dd-c8068c94be50"
      },
      "execution_count": 94,
      "outputs": [
        {
          "output_type": "stream",
          "name": "stdout",
          "text": [
            "[ 1  2  3  4  5 99 99 99 99 99]\n"
          ]
        }
      ]
    },
    {
      "cell_type": "code",
      "source": [
        "arr_disto_99 = arr[arr != 99]\n",
        "print(arr_disto_99)"
      ],
      "metadata": {
        "colab": {
          "base_uri": "https://localhost:8080/"
        },
        "id": "5ObM2XlBIFUU",
        "outputId": "5c7f9c0d-410e-4848-938c-373042f25e62"
      },
      "execution_count": 96,
      "outputs": [
        {
          "output_type": "stream",
          "name": "stdout",
          "text": [
            "[1 2 3 4 5]\n"
          ]
        }
      ]
    },
    {
      "cell_type": "markdown",
      "source": [
        "#### Where"
      ],
      "metadata": {
        "id": "w5GWrVA1IcC-"
      }
    },
    {
      "cell_type": "code",
      "source": [
        "matriz = np.array([[19,  4, 43],\n",
        "       [ 8, 96, 80],\n",
        "       [ 6, 99, 35]])\n",
        "print(matriz)\n",
        "\n",
        "print('Mientras en la matriz el valor sea mayor a 50 cambiar el valor por 0 y 1')\n",
        "print(np.where(matriz > 50, 0, 1))"
      ],
      "metadata": {
        "colab": {
          "base_uri": "https://localhost:8080/"
        },
        "id": "thx9tgxPIeMi",
        "outputId": "9576f8af-c37b-4c02-a16c-4382025b41f0"
      },
      "execution_count": 104,
      "outputs": [
        {
          "output_type": "stream",
          "name": "stdout",
          "text": [
            "[[19  4 43]\n",
            " [ 8 96 80]\n",
            " [ 6 99 35]]\n",
            "Mientras en la matriz el valor sea mayor a 50 cambiar el valor por 0 y 1\n",
            "[[1 1 1]\n",
            " [1 0 0]\n",
            " [1 0 1]]\n"
          ]
        }
      ]
    },
    {
      "cell_type": "markdown",
      "source": [
        "# Operaciones"
      ],
      "metadata": {
        "id": "IGG3qHZhJW6X"
      }
    },
    {
      "cell_type": "code",
      "source": [
        "import numpy as np"
      ],
      "metadata": {
        "id": "DmpVB-zdJann"
      },
      "execution_count": 106,
      "outputs": []
    },
    {
      "cell_type": "code",
      "source": [
        "li = [1, 2]\n",
        "print(li)"
      ],
      "metadata": {
        "colab": {
          "base_uri": "https://localhost:8080/"
        },
        "id": "ysdAyrMJJ6WB",
        "outputId": "861515bc-14b3-4b0d-f60e-5323b84c76b2"
      },
      "execution_count": 107,
      "outputs": [
        {
          "output_type": "stream",
          "name": "stdout",
          "text": [
            "[1, 2]\n"
          ]
        }
      ]
    },
    {
      "cell_type": "code",
      "source": [
        "li * 2"
      ],
      "metadata": {
        "colab": {
          "base_uri": "https://localhost:8080/"
        },
        "id": "REtvpQt8J-Md",
        "outputId": "667c0daf-e4b7-4f51-85f6-8c53aa322632"
      },
      "execution_count": 108,
      "outputs": [
        {
          "output_type": "execute_result",
          "data": {
            "text/plain": [
              "[1, 2, 1, 2]"
            ]
          },
          "metadata": {},
          "execution_count": 108
        }
      ]
    },
    {
      "cell_type": "markdown",
      "source": [
        "Esta operacion no es tomada como lo deseado"
      ],
      "metadata": {
        "id": "2gXifVVeWx1d"
      }
    },
    {
      "cell_type": "code",
      "source": [
        "arr = np.arange(0, 12)\n",
        "print(arr)\n",
        "arr_copy = arr.copy()"
      ],
      "metadata": {
        "colab": {
          "base_uri": "https://localhost:8080/"
        },
        "id": "slqUkyHEXBcF",
        "outputId": "785200ca-8b41-4a1a-b665-fd8e5918bda3"
      },
      "execution_count": 138,
      "outputs": [
        {
          "output_type": "stream",
          "name": "stdout",
          "text": [
            "[ 0  1  2  3  4  5  6  7  8  9 10 11]\n"
          ]
        }
      ]
    },
    {
      "cell_type": "code",
      "source": [
        "arr_copy = arr.copy()"
      ],
      "metadata": {
        "id": "tVs8MNGtYLuF"
      },
      "execution_count": 118,
      "outputs": []
    },
    {
      "cell_type": "markdown",
      "source": [
        "## Operacion"
      ],
      "metadata": {
        "id": "xZDVwUIGXViY"
      }
    },
    {
      "cell_type": "code",
      "source": [
        "print(arr)"
      ],
      "metadata": {
        "colab": {
          "base_uri": "https://localhost:8080/"
        },
        "id": "QocX0mQjYC9E",
        "outputId": "30484119-b116-4b80-9562-9c8964a9b114"
      },
      "execution_count": 139,
      "outputs": [
        {
          "output_type": "stream",
          "name": "stdout",
          "text": [
            "[ 0  1  2  3  4  5  6  7  8  9 10 11]\n"
          ]
        }
      ]
    },
    {
      "cell_type": "markdown",
      "source": [
        "###### Multiplicacion"
      ],
      "metadata": {
        "id": "vWfN_wK5ZLhh"
      }
    },
    {
      "cell_type": "code",
      "source": [
        "print(arr * 2)"
      ],
      "metadata": {
        "colab": {
          "base_uri": "https://localhost:8080/"
        },
        "id": "b2cOlqo3XXoz",
        "outputId": "43bb34d5-d15c-413b-e0a6-8032e496bc42"
      },
      "execution_count": 140,
      "outputs": [
        {
          "output_type": "stream",
          "name": "stdout",
          "text": [
            "[ 0  2  4  6  8 10 12 14 16 18 20 22]\n"
          ]
        }
      ]
    },
    {
      "cell_type": "markdown",
      "source": [
        "###### Suma"
      ],
      "metadata": {
        "id": "2DRmEeIYZO5s"
      }
    },
    {
      "cell_type": "code",
      "source": [
        "print(arr + 2)"
      ],
      "metadata": {
        "colab": {
          "base_uri": "https://localhost:8080/"
        },
        "id": "3uXVH-maY22a",
        "outputId": "e780c254-89ef-4e95-b51b-2106b0f07fa1"
      },
      "execution_count": 141,
      "outputs": [
        {
          "output_type": "stream",
          "name": "stdout",
          "text": [
            "[ 2  3  4  5  6  7  8  9 10 11 12 13]\n"
          ]
        }
      ]
    },
    {
      "cell_type": "markdown",
      "source": [
        "###### Divison"
      ],
      "metadata": {
        "id": "dpxiPt9_ZSGF"
      }
    },
    {
      "cell_type": "code",
      "source": [
        "print(11 / arr)"
      ],
      "metadata": {
        "colab": {
          "base_uri": "https://localhost:8080/"
        },
        "id": "3bBHFeo_Y9yD",
        "outputId": "45948828-bff2-4d94-8ff3-03441c6f58bc"
      },
      "execution_count": 142,
      "outputs": [
        {
          "output_type": "stream",
          "name": "stdout",
          "text": [
            "[        inf 11.          5.5         3.66666667  2.75        2.2\n",
            "  1.83333333  1.57142857  1.375       1.22222222  1.1         1.        ]\n"
          ]
        },
        {
          "output_type": "stream",
          "name": "stderr",
          "text": [
            "/usr/local/lib/python3.7/dist-packages/ipykernel_launcher.py:1: RuntimeWarning: divide by zero encountered in true_divide\n",
            "  \"\"\"Entry point for launching an IPython kernel.\n"
          ]
        }
      ]
    },
    {
      "cell_type": "markdown",
      "source": [
        "###### Exponenciacion"
      ],
      "metadata": {
        "id": "hURlamepZV6z"
      }
    },
    {
      "cell_type": "code",
      "source": [
        "print(arr ** 2)"
      ],
      "metadata": {
        "colab": {
          "base_uri": "https://localhost:8080/"
        },
        "id": "ofyuawJOZY3W",
        "outputId": "40d5ac12-9b04-4c44-e23e-fda7cea3bb20"
      },
      "execution_count": 143,
      "outputs": [
        {
          "output_type": "stream",
          "name": "stdout",
          "text": [
            "[  0   1   4   9  16  25  36  49  64  81 100 121]\n"
          ]
        }
      ]
    },
    {
      "cell_type": "markdown",
      "source": [
        "###### Suma de array"
      ],
      "metadata": {
        "id": "_km93AUsZc_g"
      }
    },
    {
      "cell_type": "code",
      "source": [
        "print(arr)\n",
        "print(arr_copy)\n",
        "print('-' * 35)\n",
        "print(arr + arr_copy)"
      ],
      "metadata": {
        "colab": {
          "base_uri": "https://localhost:8080/"
        },
        "id": "ftnqSzyfZhM7",
        "outputId": "aefe05d8-01b8-4166-d021-3810965dca80"
      },
      "execution_count": 144,
      "outputs": [
        {
          "output_type": "stream",
          "name": "stdout",
          "text": [
            "[ 0  1  2  3  4  5  6  7  8  9 10 11]\n",
            "[ 0  1  2  3  4  5  6  7  8  9 10 11]\n",
            "-----------------------------------\n",
            "[ 0  2  4  6  8 10 12 14 16 18 20 22]\n"
          ]
        }
      ]
    },
    {
      "cell_type": "code",
      "source": [
        "print(arr)\n",
        "print(arr_copy)\n",
        "print('-' * 35)\n",
        "print(arr * arr_copy)"
      ],
      "metadata": {
        "colab": {
          "base_uri": "https://localhost:8080/"
        },
        "id": "2-4-sOQ7Z-z_",
        "outputId": "8d4cec0e-537e-4e29-f966-7a4d6a8657e6"
      },
      "execution_count": 145,
      "outputs": [
        {
          "output_type": "stream",
          "name": "stdout",
          "text": [
            "[ 0  1  2  3  4  5  6  7  8  9 10 11]\n",
            "[ 0  1  2  3  4  5  6  7  8  9 10 11]\n",
            "-----------------------------------\n",
            "[  0   1   4   9  16  25  36  49  64  81 100 121]\n"
          ]
        }
      ]
    },
    {
      "cell_type": "markdown",
      "source": [
        "## Operacion con matrices"
      ],
      "metadata": {
        "id": "nkIPLPLoaB5w"
      }
    },
    {
      "cell_type": "code",
      "source": [
        "matriz = arr.reshape(2, 6)\n",
        "matriz_copy = matriz.copy()"
      ],
      "metadata": {
        "id": "MaFgJWdyaEX9"
      },
      "execution_count": 146,
      "outputs": []
    },
    {
      "cell_type": "code",
      "source": [
        "print(matriz)\n",
        "print(matriz_copy)"
      ],
      "metadata": {
        "colab": {
          "base_uri": "https://localhost:8080/"
        },
        "id": "j52nBO__aoN2",
        "outputId": "b8798a0e-0484-4965-a7cd-b0d3d415de10"
      },
      "execution_count": 147,
      "outputs": [
        {
          "output_type": "stream",
          "name": "stdout",
          "text": [
            "[[ 0  1  2  3  4  5]\n",
            " [ 6  7  8  9 10 11]]\n",
            "[[ 0  1  2  3  4  5]\n",
            " [ 6  7  8  9 10 11]]\n"
          ]
        }
      ]
    },
    {
      "cell_type": "markdown",
      "source": [
        "#### Operaciones"
      ],
      "metadata": {
        "id": "ZWwX0x8yasiZ"
      }
    },
    {
      "cell_type": "code",
      "source": [
        "sum = matriz + matriz_copy\n",
        "res = matriz - matriz_copy\n",
        "mul = matriz * matriz_copy\n",
        "div = matriz / matriz_copy"
      ],
      "metadata": {
        "colab": {
          "base_uri": "https://localhost:8080/"
        },
        "id": "Hu3TIDb0avDN",
        "outputId": "5c9f50fc-b5cc-4e80-e852-b0db32626207"
      },
      "execution_count": 148,
      "outputs": [
        {
          "output_type": "stream",
          "name": "stderr",
          "text": [
            "/usr/local/lib/python3.7/dist-packages/ipykernel_launcher.py:4: RuntimeWarning: invalid value encountered in true_divide\n",
            "  after removing the cwd from sys.path.\n"
          ]
        }
      ]
    },
    {
      "cell_type": "code",
      "source": [
        "print(sum)\n",
        "print(res)\n",
        "print(mul)\n",
        "print(div)"
      ],
      "metadata": {
        "colab": {
          "base_uri": "https://localhost:8080/"
        },
        "id": "85TKoe-Aa7T6",
        "outputId": "6224bbc2-79e1-49a4-8394-e7c7b2e58d4d"
      },
      "execution_count": 149,
      "outputs": [
        {
          "output_type": "stream",
          "name": "stdout",
          "text": [
            "[[ 0  2  4  6  8 10]\n",
            " [12 14 16 18 20 22]]\n",
            "[[0 0 0 0 0 0]\n",
            " [0 0 0 0 0 0]]\n",
            "[[  0   1   4   9  16  25]\n",
            " [ 36  49  64  81 100 121]]\n",
            "[[nan  1.  1.  1.  1.  1.]\n",
            " [ 1.  1.  1.  1.  1.  1.]]\n"
          ]
        }
      ]
    },
    {
      "cell_type": "markdown",
      "source": [
        "#### Operacion algebraica producto punto\n",
        "Para esta operacion necesita que los vectores o matrices tengan la misma estructura"
      ],
      "metadata": {
        "id": "kULk09vGbS2y"
      }
    },
    {
      "cell_type": "code",
      "source": [
        "print(matriz_copy.T)"
      ],
      "metadata": {
        "colab": {
          "base_uri": "https://localhost:8080/"
        },
        "id": "cC7zQ8_3bdWo",
        "outputId": "27b315d0-1c31-4b72-81a0-41d4de954811"
      },
      "execution_count": 152,
      "outputs": [
        {
          "output_type": "stream",
          "name": "stdout",
          "text": [
            "[[ 0  6]\n",
            " [ 1  7]\n",
            " [ 2  8]\n",
            " [ 3  9]\n",
            " [ 4 10]\n",
            " [ 5 11]]\n"
          ]
        }
      ]
    },
    {
      "cell_type": "code",
      "source": [
        "np.matmul(matriz, matriz_copy.T)"
      ],
      "metadata": {
        "colab": {
          "base_uri": "https://localhost:8080/"
        },
        "id": "dLe5FlqEbWkC",
        "outputId": "09d44ddd-1230-4d78-d53b-7fa0bd46e013"
      },
      "execution_count": 153,
      "outputs": [
        {
          "output_type": "execute_result",
          "data": {
            "text/plain": [
              "array([[ 55, 145],\n",
              "       [145, 451]])"
            ]
          },
          "metadata": {},
          "execution_count": 153
        }
      ]
    },
    {
      "cell_type": "markdown",
      "source": [
        "Otra manera"
      ],
      "metadata": {
        "id": "uRkgyRnGb82K"
      }
    },
    {
      "cell_type": "code",
      "source": [
        "print(matriz @ matriz_copy.T)"
      ],
      "metadata": {
        "colab": {
          "base_uri": "https://localhost:8080/"
        },
        "id": "FlUhNJ_kb-J0",
        "outputId": "25e25cfe-19e9-45b6-fbbf-17dff5e9b695"
      },
      "execution_count": 155,
      "outputs": [
        {
          "output_type": "stream",
          "name": "stdout",
          "text": [
            "[[ 55 145]\n",
            " [145 451]]\n"
          ]
        }
      ]
    },
    {
      "cell_type": "markdown",
      "source": [
        "# Test"
      ],
      "metadata": {
        "id": "dVlwmRt3dF_3"
      }
    },
    {
      "cell_type": "code",
      "source": [
        "import numpy as np"
      ],
      "metadata": {
        "id": "vGeyQQQZdILQ"
      },
      "execution_count": 157,
      "outputs": []
    },
    {
      "cell_type": "code",
      "source": [
        "np.array([[1, 2, 3,], [4, 5, 6], [7, 8, 9]])"
      ],
      "metadata": {
        "colab": {
          "base_uri": "https://localhost:8080/"
        },
        "id": "FhhupB6cdNjk",
        "outputId": "6dcb9728-1d40-47bd-e6cb-2134199f5434"
      },
      "execution_count": 158,
      "outputs": [
        {
          "output_type": "execute_result",
          "data": {
            "text/plain": [
              "array([[1, 2, 3],\n",
              "       [4, 5, 6],\n",
              "       [7, 8, 9]])"
            ]
          },
          "metadata": {},
          "execution_count": 158
        }
      ]
    }
  ]
}